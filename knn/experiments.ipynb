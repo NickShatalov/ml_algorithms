{
 "cells": [
  {
   "cell_type": "code",
   "execution_count": 18,
   "metadata": {
    "collapsed": true
   },
   "outputs": [],
   "source": [
    "import numpy as np\n",
    "import matplotlib.pyplot as plt\n",
    "import scipy.ndimage as ndimage\n",
    "import scipy.misc as misc\n",
    "import skimage.io as io\n",
    "import skimage.transform as transform\n",
    "import time\n",
    "\n",
    "from sklearn.datasets import fetch_mldata\n",
    "from sklearn.metrics import confusion_matrix\n",
    "\n",
    "from nearest_neighbors import KNNClassifier\n",
    "from cross_validation import kfold, mod_kfold, knn_cross_val_score, knn_cross_val_score_mod\n",
    "from my_tools import plot_confusion_matrix\n",
    "\n",
    "%matplotlib inline"
   ]
  },
  {
   "cell_type": "code",
   "execution_count": 3,
   "metadata": {
    "collapsed": true
   },
   "outputs": [],
   "source": [
    "mnist = fetch_mldata(\"MNIST original\")"
   ]
  },
  {
   "cell_type": "code",
   "execution_count": 4,
   "metadata": {
    "scrolled": true
   },
   "outputs": [
    {
     "data": {
      "text/plain": [
       "(70000, 784)"
      ]
     },
     "execution_count": 4,
     "metadata": {},
     "output_type": "execute_result"
    }
   ],
   "source": [
    "mnist.data.shape"
   ]
  },
  {
   "cell_type": "code",
   "execution_count": 5,
   "metadata": {
    "collapsed": true
   },
   "outputs": [],
   "source": [
    "X = mnist.data\n",
    "y = mnist.target"
   ]
  },
  {
   "cell_type": "markdown",
   "metadata": {},
   "source": [
    "## Experiment 1"
   ]
  },
  {
   "cell_type": "markdown",
   "metadata": {},
   "source": [
    "Разобьем датасет на обучающую выборку (60000 объектов) и тестовую выборку (10000 объектов)"
   ]
  },
  {
   "cell_type": "code",
   "execution_count": 6,
   "metadata": {
    "collapsed": true
   },
   "outputs": [],
   "source": [
    "# indices = np.arange(mnist.data.shape[0])\n",
    "# np.random.shuffle(indices)\n",
    "\n",
    "TRAIN_LENGTH = 60000\n",
    "X_train = X[:TRAIN_LENGTH]\n",
    "X_test = X[TRAIN_LENGTH:]\n",
    "y_train = y[:TRAIN_LENGTH]\n",
    "y_test = y[TRAIN_LENGTH:]"
   ]
  },
  {
   "cell_type": "code",
   "execution_count": 79,
   "metadata": {
    "collapsed": true
   },
   "outputs": [],
   "source": [
    "knn_my_own = KNNClassifier(5, strategy='my_own', metric='euclidean', weights=False, test_block_size=256)\n",
    "knn_brute = KNNClassifier(5, strategy='brute', metric='euclidean', weights=False, test_block_size=256)\n",
    "knn_kd_tree = KNNClassifier(5, strategy='kd_tree', metric='euclidean', weights=False, test_block_size=256)\n",
    "knn_ball_tree = KNNClassifier(5, strategy='ball_tree', metric='euclidean', weights=False, test_block_size=256)\n",
    "\n",
    "knns = [\n",
    "    (\"my_own\", knn_my_own),\n",
    "    (\"brute\", knn_brute),\n",
    "    (\"kd_tree\", knn_kd_tree),\n",
    "    (\"ball_tree\", knn_ball_tree)\n",
    "]"
   ]
  },
  {
   "cell_type": "code",
   "execution_count": 80,
   "metadata": {},
   "outputs": [
    {
     "name": "stdout",
     "output_type": "stream",
     "text": [
      "Number of features: 10\n",
      "my_own:\n",
      "fit: 0.13 s\n",
      "neighbors search: 32.46 s\n",
      "brute:\n",
      "fit: 0.01 s\n",
      "neighbors search: 31.87 s\n",
      "kd_tree:\n",
      "fit: 5.89 s\n",
      "neighbors search: 1.27 s\n",
      "ball_tree:\n",
      "fit: 6.65 s\n",
      "neighbors search: 5.91 s\n",
      "Number of features: 20\n",
      "my_own:\n",
      "fit: 0.01 s\n",
      "neighbors search: 36.27 s\n",
      "brute:\n",
      "fit: 0.01 s\n",
      "neighbors search: 27.86 s\n",
      "kd_tree:\n",
      "fit: 4.48 s\n",
      "neighbors search: 4.38 s\n",
      "ball_tree:\n",
      "fit: 3.37 s\n",
      "neighbors search: 29.09 s\n",
      "Number of features: 100\n",
      "my_own:\n",
      "fit: 0.07 s\n",
      "neighbors search: 83.74 s\n",
      "brute:\n",
      "fit: 0.06 s\n",
      "neighbors search: 31.09 s\n",
      "kd_tree:\n",
      "fit: 13.56 s\n",
      "neighbors search: 103.83 s\n",
      "ball_tree:\n",
      "fit: 13.45 s\n",
      "neighbors search: 103.28 s\n",
      "It took 538.80 seconds\n"
     ]
    }
   ],
   "source": [
    "mega_start_time = time.time()\n",
    "for feature_num in [10, 20, 100]:\n",
    "    print(\"Number of features: {}\".format(feature_num))\n",
    "    \n",
    "    features_indices = np.arange(X_train.shape[1])\n",
    "    np.random.shuffle(features_indices)\n",
    "    features_indices = features_indices[:feature_num]\n",
    "    \n",
    "    for name, knn in knns:\n",
    "        print(\"{}:\".format(name))\n",
    "        start_time = time.time()\n",
    "        knn.fit(X_train[:, features_indices], y_train)\n",
    "        print(\"fit: {:.2f} s\".format(time.time() - start_time))\n",
    "        start_time = time.time()\n",
    "        kneighbors = knn.find_kneighbors(X_test[:, features_indices], False)\n",
    "        print(\"neighbors search: {:.2f} s\".format(time.time() - start_time))\n",
    "print(\"It took {:.2f} seconds\".format(time.time() - mega_start_time))"
   ]
  },
  {
   "cell_type": "markdown",
   "metadata": {},
   "source": [
    "## Experiment 2-3"
   ]
  },
  {
   "cell_type": "markdown",
   "metadata": {},
   "source": [
    "Euclidean, nonweighted"
   ]
  },
  {
   "cell_type": "code",
   "execution_count": 158,
   "metadata": {
    "collapsed": true
   },
   "outputs": [],
   "source": [
    "k_list = list(range(1, 11))"
   ]
  },
  {
   "cell_type": "code",
   "execution_count": 159,
   "metadata": {},
   "outputs": [
    {
     "name": "stdout",
     "output_type": "stream",
     "text": [
      "It took 464.46 s\n"
     ]
    }
   ],
   "source": [
    "start_time = time.time()\n",
    "accuracies_euclidean = knn_cross_val_score(\n",
    "    X_train, y_train, k_list,\n",
    "    \"accuracy\", kfold(X_train.shape[0], 3),\n",
    "    metric=\"euclidean\", weights=False\n",
    ")\n",
    "print(\"It took {:.2f} s\".format(time.time() - start_time))"
   ]
  },
  {
   "cell_type": "code",
   "execution_count": 160,
   "metadata": {},
   "outputs": [
    {
     "data": {
      "text/plain": [
       "{1: [0.96879999999999999, 0.97224999999999995, 0.96794999999999998],\n",
       " 2: [0.96189999999999998, 0.96389999999999998, 0.96109999999999995],\n",
       " 3: [0.96845000000000003, 0.97240000000000004, 0.96924999999999994],\n",
       " 4: [0.96630000000000005, 0.97004999999999997, 0.96765000000000001],\n",
       " 5: [0.96784999999999999, 0.97009999999999996, 0.96860000000000002],\n",
       " 6: [0.96579999999999999, 0.96924999999999994, 0.96679999999999999],\n",
       " 7: [0.96504999999999996, 0.96830000000000005, 0.96645000000000003],\n",
       " 8: [0.96489999999999998, 0.9667, 0.9657],\n",
       " 9: [0.9647, 0.96684999999999999, 0.96565000000000001],\n",
       " 10: [0.96340000000000003, 0.96555000000000002, 0.96414999999999995]}"
      ]
     },
     "execution_count": 160,
     "metadata": {},
     "output_type": "execute_result"
    }
   ],
   "source": [
    "accuracies_euclidean"
   ]
  },
  {
   "cell_type": "code",
   "execution_count": 161,
   "metadata": {},
   "outputs": [
    {
     "name": "stdout",
     "output_type": "stream",
     "text": [
      "1: 0.9697\n",
      "2: 0.9623\n",
      "3: 0.9700\n",
      "4: 0.9680\n",
      "5: 0.9688\n",
      "6: 0.9673\n",
      "7: 0.9666\n",
      "8: 0.9658\n",
      "9: 0.9657\n",
      "10: 0.9644\n"
     ]
    }
   ],
   "source": [
    "for k, scores in accuracies_euclidean.items():\n",
    "    print(\"{}: {:.4f}\".format(k, np.array(scores).mean()))"
   ]
  },
  {
   "cell_type": "markdown",
   "metadata": {},
   "source": [
    "Cosine, nonweighted"
   ]
  },
  {
   "cell_type": "code",
   "execution_count": 162,
   "metadata": {},
   "outputs": [
    {
     "name": "stdout",
     "output_type": "stream",
     "text": [
      "It took 721.71 s\n"
     ]
    }
   ],
   "source": [
    "start_time = time.time()\n",
    "accuracies_cosine = knn_cross_val_score(\n",
    "    X_train, y_train, k_list,\n",
    "    \"accuracy\", kfold(X_train.shape[0], 3),\n",
    "    metric=\"cosine\", weights=False\n",
    ")\n",
    "print(\"It took {:.2f} s\".format(time.time() - start_time))"
   ]
  },
  {
   "cell_type": "code",
   "execution_count": 163,
   "metadata": {},
   "outputs": [
    {
     "data": {
      "text/plain": [
       "{1: [0.97529999999999994, 0.97245000000000004, 0.97219999999999995],\n",
       " 2: [0.97219999999999995, 0.96884999999999999, 0.96709999999999996],\n",
       " 3: [0.97560000000000002, 0.97355000000000003, 0.97094999999999998],\n",
       " 4: [0.97540000000000004, 0.97275, 0.97019999999999995],\n",
       " 5: [0.97409999999999997, 0.97240000000000004, 0.97060000000000002],\n",
       " 6: [0.97494999999999998, 0.97155000000000002, 0.96975],\n",
       " 7: [0.97424999999999995, 0.97055000000000002, 0.96904999999999997],\n",
       " 8: [0.97275, 0.96945000000000003, 0.96845000000000003],\n",
       " 9: [0.97265000000000001, 0.96914999999999996, 0.96819999999999995],\n",
       " 10: [0.97184999999999999, 0.96889999999999998, 0.96814999999999996]}"
      ]
     },
     "execution_count": 163,
     "metadata": {},
     "output_type": "execute_result"
    }
   ],
   "source": [
    "accuracies_cosine"
   ]
  },
  {
   "cell_type": "code",
   "execution_count": 164,
   "metadata": {},
   "outputs": [
    {
     "name": "stdout",
     "output_type": "stream",
     "text": [
      "1: 0.9733\n",
      "2: 0.9694\n",
      "3: 0.9734\n",
      "4: 0.9728\n",
      "5: 0.9724\n",
      "6: 0.9721\n",
      "7: 0.9713\n",
      "8: 0.9702\n",
      "9: 0.9700\n",
      "10: 0.9696\n"
     ]
    }
   ],
   "source": [
    "for k, scores in accuracies_cosine.items():\n",
    "    print(\"{}: {:.4f}\".format(k, np.array(scores).mean()))"
   ]
  },
  {
   "cell_type": "markdown",
   "metadata": {},
   "source": [
    "Euclidean, weighted"
   ]
  },
  {
   "cell_type": "code",
   "execution_count": 165,
   "metadata": {},
   "outputs": [
    {
     "name": "stdout",
     "output_type": "stream",
     "text": [
      "It took 463.53 s\n"
     ]
    }
   ],
   "source": [
    "start_time = time.time()\n",
    "accuracies_euclidean_weighted = knn_cross_val_score(\n",
    "    X_train, y_train, k_list,\n",
    "    \"accuracy\", kfold(X_train.shape[0], 3),\n",
    "    metric=\"euclidean\", weights=True\n",
    ")\n",
    "print(\"It took {:.2f} s\".format(time.time() - start_time))"
   ]
  },
  {
   "cell_type": "code",
   "execution_count": 166,
   "metadata": {},
   "outputs": [
    {
     "data": {
      "text/plain": [
       "{1: [0.97050000000000003, 0.96794999999999998, 0.97030000000000005],\n",
       " 2: [0.97050000000000003, 0.96794999999999998, 0.97030000000000005],\n",
       " 3: [0.97124999999999995, 0.97045000000000003, 0.97109999999999996],\n",
       " 4: [0.97119999999999995, 0.97109999999999996, 0.97204999999999997],\n",
       " 5: [0.96945000000000003, 0.97014999999999996, 0.97014999999999996],\n",
       " 6: [0.97089999999999999, 0.97094999999999998, 0.97009999999999996],\n",
       " 7: [0.96799999999999997, 0.96784999999999999, 0.96804999999999997],\n",
       " 8: [0.96870000000000001, 0.96855000000000002, 0.96845000000000003],\n",
       " 9: [0.96740000000000004, 0.96704999999999997, 0.96709999999999996],\n",
       " 10: [0.96730000000000005, 0.96704999999999997, 0.96704999999999997]}"
      ]
     },
     "execution_count": 166,
     "metadata": {},
     "output_type": "execute_result"
    }
   ],
   "source": [
    "accuracies_euclidean_weighted"
   ]
  },
  {
   "cell_type": "code",
   "execution_count": 167,
   "metadata": {},
   "outputs": [
    {
     "name": "stdout",
     "output_type": "stream",
     "text": [
      "1: 0.9696\n",
      "2: 0.9696\n",
      "3: 0.9709\n",
      "4: 0.9714\n",
      "5: 0.9699\n",
      "6: 0.9707\n",
      "7: 0.9680\n",
      "8: 0.9686\n",
      "9: 0.9672\n",
      "10: 0.9671\n"
     ]
    }
   ],
   "source": [
    "for k, scores in accuracies_euclidean_weighted.items():\n",
    "    print(\"{}: {:.4f}\".format(k, np.array(scores).mean()))"
   ]
  },
  {
   "cell_type": "markdown",
   "metadata": {},
   "source": [
    "Cosine, nonweighted"
   ]
  },
  {
   "cell_type": "code",
   "execution_count": 171,
   "metadata": {},
   "outputs": [
    {
     "name": "stdout",
     "output_type": "stream",
     "text": [
      "It took 761.76 s\n"
     ]
    }
   ],
   "source": [
    "start_time = time.time()\n",
    "accuracies_cosine_weighted = knn_cross_val_score(\n",
    "    X_train, y_train, k_list,\n",
    "    \"accuracy\", kfold(X_train.shape[0], 3),\n",
    "    metric=\"cosine\", weights=True\n",
    ")\n",
    "print(\"It took {:.2f} s\".format(time.time() - start_time))"
   ]
  },
  {
   "cell_type": "code",
   "execution_count": 169,
   "metadata": {
    "scrolled": true
   },
   "outputs": [
    {
     "data": {
      "text/plain": [
       "{1: [0.97045000000000003, 0.96879999999999999, 0.96945000000000003],\n",
       " 2: [0.97045000000000003, 0.96879999999999999, 0.96945000000000003],\n",
       " 3: [0.97175, 0.96975, 0.97004999999999997],\n",
       " 4: [0.97370000000000001, 0.97070000000000001, 0.97065000000000001],\n",
       " 5: [0.97175, 0.96945000000000003, 0.96884999999999999],\n",
       " 6: [0.97224999999999995, 0.96945000000000003, 0.96909999999999996],\n",
       " 7: [0.97014999999999996, 0.96750000000000003, 0.96665000000000001],\n",
       " 8: [0.97075, 0.96735000000000004, 0.96745000000000003],\n",
       " 9: [0.96899999999999997, 0.96614999999999995, 0.96504999999999996],\n",
       " 10: [0.96865000000000001, 0.96645000000000003, 0.96445000000000003]}"
      ]
     },
     "execution_count": 169,
     "metadata": {},
     "output_type": "execute_result"
    }
   ],
   "source": [
    "accuracies_cosine_weighted"
   ]
  },
  {
   "cell_type": "code",
   "execution_count": 170,
   "metadata": {},
   "outputs": [
    {
     "name": "stdout",
     "output_type": "stream",
     "text": [
      "1: 0.9696\n",
      "2: 0.9696\n",
      "3: 0.9705\n",
      "4: 0.9717\n",
      "5: 0.9700\n",
      "6: 0.9703\n",
      "7: 0.9681\n",
      "8: 0.9685\n",
      "9: 0.9667\n",
      "10: 0.9665\n"
     ]
    }
   ],
   "source": [
    "for k, scores in accuracies_cosine_weighted.items():\n",
    "    print(\"{}: {:.4f}\".format(k, np.array(scores).mean()))"
   ]
  },
  {
   "cell_type": "markdown",
   "metadata": {},
   "source": [
    "## Experiment 4"
   ]
  },
  {
   "cell_type": "code",
   "execution_count": 36,
   "metadata": {
    "collapsed": true
   },
   "outputs": [],
   "source": [
    "best_knn = KNNClassifier(4, strategy=\"brute\", metric=\"cosine\", weights=True)"
   ]
  },
  {
   "cell_type": "code",
   "execution_count": 37,
   "metadata": {
    "collapsed": true,
    "scrolled": true
   },
   "outputs": [],
   "source": [
    "best_knn.fit(X_train, y_train)"
   ]
  },
  {
   "cell_type": "code",
   "execution_count": 38,
   "metadata": {},
   "outputs": [
    {
     "name": "stdout",
     "output_type": "stream",
     "text": [
      "It took 64.84 s\n"
     ]
    }
   ],
   "source": [
    "start_time = time.time()\n",
    "y_pred = best_knn.predict(X_test)\n",
    "print(\"It took {:.2f} s\".format(time.time() - start_time))"
   ]
  },
  {
   "cell_type": "code",
   "execution_count": 39,
   "metadata": {
    "collapsed": true
   },
   "outputs": [],
   "source": [
    "accuracy = (y_pred == y_test).sum() / y_test.shape[0]"
   ]
  },
  {
   "cell_type": "code",
   "execution_count": 40,
   "metadata": {},
   "outputs": [
    {
     "name": "stdout",
     "output_type": "stream",
     "text": [
      "accuracy: 0.9752\n"
     ]
    }
   ],
   "source": [
    "print(\"accuracy: {}\".format(accuracy))"
   ]
  },
  {
   "cell_type": "code",
   "execution_count": 41,
   "metadata": {},
   "outputs": [
    {
     "data": {
      "image/png": "[encoded data removed]",
      "text/plain": [
       "<matplotlib.figure.Figure at 0x10a4c2c18>"
      ]
     },
     "metadata": {},
     "output_type": "display_data"
    }
   ],
   "source": [
    "cm = confusion_matrix(y_test, y_pred)\n",
    "cm[(np.arange(10), np.arange(10))] = 0\n",
    "plot_confusion_matrix(cm, range(10), title='')\n",
    "plt.savefig(\"cm_1.pdf\", format='pdf', bbox_inches='tight', pad_inches=0.1)"
   ]
  },
  {
   "cell_type": "code",
   "execution_count": 15,
   "metadata": {
    "collapsed": true
   },
   "outputs": [],
   "source": [
    "X_inaccurate = X_test[y_test != y_pred]\n",
    "y_test_inaccurate = y_test[y_test != y_pred]\n",
    "y_pred_inaccurate = y_pred[y_test != y_pred]"
   ]
  },
  {
   "cell_type": "code",
   "execution_count": 51,
   "metadata": {},
   "outputs": [
    {
     "data": {
      "image/png": "[encoded data removed]",
      "text/plain": [
       "<matplotlib.figure.Figure at 0x11ac74828>"
      ]
     },
     "metadata": {},
     "output_type": "display_data"
    }
   ],
   "source": [
    "# images_true_pred = list(zip(X_inaccurate, y_test_inaccurate, y_pred_inaccurate))\n",
    "# np.random.shuffle(images_true_pred)\n",
    "for index, (image, true, prediction) in enumerate(itp1[:8]):\n",
    "    plt.subplot(2, 4, index + 1)\n",
    "    plt.axis('off')\n",
    "    plt.imshow(image.reshape(28, 28), cmap=plt.cm.gray_r)\n",
    "    plt.title('True: {}\\nPrediction: {}'.format(int(true), int(prediction)))\n",
    "\n",
    "plt.show()"
   ]
  },
  {
   "cell_type": "code",
   "execution_count": 178,
   "metadata": {
    "collapsed": true
   },
   "outputs": [],
   "source": [
    "my_itp = [\n",
    "    (X_4_9[16], 4, 9), (X_4_9[3], 4, 9), (X_7_9[4], 7, 9), (X_3_5[4], 3, 5),\n",
    "    (X_7_1[7], 7, 1), images_true_pred[4], images_true_pred[5], images_true_pred[6]\n",
    "] "
   ]
  },
  {
   "cell_type": "code",
   "execution_count": 180,
   "metadata": {},
   "outputs": [
    {
     "data": {
      "image/png": "[encoded data removed]",
      "text/plain": [
       "<matplotlib.figure.Figure at 0x125eb5630>"
      ]
     },
     "metadata": {},
     "output_type": "display_data"
    }
   ],
   "source": [
    "for index, (image, true, prediction) in enumerate(my_itp[:8]):\n",
    "    plt.subplot(2, 4, index + 1)\n",
    "    plt.axis('off')\n",
    "    plt.imshow(image.reshape(28, 28), cmap=plt.cm.gray_r)\n",
    "    plt.title('True: {}\\nPrediction: {}'.format(int(true), int(prediction)))\n",
    "\n",
    "plt.savefig(\"err_1.pdf\", format='pdf', bbox_inches='tight', pad_inches=0.1)"
   ]
  },
  {
   "cell_type": "code",
   "execution_count": 92,
   "metadata": {
    "collapsed": true
   },
   "outputs": [],
   "source": [
    "X_4_9 = X_inaccurate[(y_test_inaccurate == 4) * (y_pred_inaccurate == 9)]"
   ]
  },
  {
   "cell_type": "code",
   "execution_count": 125,
   "metadata": {
    "collapsed": true
   },
   "outputs": [],
   "source": [
    "X_7_9 = X_inaccurate[(y_test_inaccurate == 7) * (y_pred_inaccurate == 9)]"
   ]
  },
  {
   "cell_type": "code",
   "execution_count": 149,
   "metadata": {
    "collapsed": true
   },
   "outputs": [],
   "source": [
    "X_3_5 = X_inaccurate[(y_test_inaccurate == 3) * (y_pred_inaccurate == 5)]"
   ]
  },
  {
   "cell_type": "code",
   "execution_count": 167,
   "metadata": {
    "collapsed": true
   },
   "outputs": [],
   "source": [
    "X_7_1 = X_inaccurate[(y_test_inaccurate == 7) * (y_pred_inaccurate == 1)]"
   ]
  },
  {
   "cell_type": "code",
   "execution_count": 176,
   "metadata": {},
   "outputs": [
    {
     "data": {
      "text/plain": [
       "<matplotlib.image.AxesImage at 0x125f90198>"
      ]
     },
     "execution_count": 176,
     "metadata": {},
     "output_type": "execute_result"
    },
    {
     "data": {
      "image/png": "[encoded data removed]",
      "text/plain": [
       "<matplotlib.figure.Figure at 0x125ed93c8>"
      ]
     },
     "metadata": {},
     "output_type": "display_data"
    }
   ],
   "source": [
    "plt.imshow(X_7_1[7].reshape((28, 28)), cmap=plt.cm.gray_r)"
   ]
  },
  {
   "cell_type": "code",
   "execution_count": 46,
   "metadata": {
    "collapsed": true
   },
   "outputs": [],
   "source": [
    "itp1 = images_true_pred[:8]"
   ]
  },
  {
   "cell_type": "markdown",
   "metadata": {},
   "source": [
    "## Experiment 5"
   ]
  },
  {
   "cell_type": "markdown",
   "metadata": {},
   "source": [
    "Cosine weighted"
   ]
  },
  {
   "cell_type": "code",
   "execution_count": 5,
   "metadata": {
    "collapsed": true
   },
   "outputs": [],
   "source": [
    "X_test = X[60000:]\n",
    "y_test = y[60000:]\n",
    "\n",
    "train_inds = np.arange(60000)\n",
    "np.random.shuffle(train_inds)\n",
    "train_inds = train_inds[:12000]\n",
    "#for i in range(10):\n",
    "#    train_inds = np.r_[train_inds, np.arange(i * 6000 + 300 * i, i * 6000 + 2000 + 300 * i)]\n",
    "\n",
    "X_train = X[train_inds]\n",
    "y_train = y[train_inds]"
   ]
  },
  {
   "cell_type": "code",
   "execution_count": 6,
   "metadata": {
    "scrolled": true
   },
   "outputs": [
    {
     "data": {
      "text/plain": [
       "(array([ 6903.,  7877.,  6990.,  7141.,  6824.,  6313.,  6876.,  7293.,\n",
       "         6825.,  6958.]),\n",
       " array([ 0. ,  0.9,  1.8,  2.7,  3.6,  4.5,  5.4,  6.3,  7.2,  8.1,  9. ]),\n",
       " <a list of 10 Patch objects>)"
      ]
     },
     "execution_count": 6,
     "metadata": {},
     "output_type": "execute_result"
    },
    {
     "data": {
      "image/png": "[encoded data removed]",
      "text/plain": [
       "<matplotlib.figure.Figure at 0x10485b6d8>"
      ]
     },
     "metadata": {},
     "output_type": "display_data"
    }
   ],
   "source": [
    "plt.hist(y)"
   ]
  },
  {
   "cell_type": "code",
   "execution_count": 7,
   "metadata": {
    "collapsed": true
   },
   "outputs": [],
   "source": [
    "folds = kfold(X_train.shape[0], 3)"
   ]
  },
  {
   "cell_type": "code",
   "execution_count": 8,
   "metadata": {
    "collapsed": true
   },
   "outputs": [],
   "source": [
    "k_list = range(1, 10)"
   ]
  },
  {
   "cell_type": "code",
   "execution_count": 9,
   "metadata": {},
   "outputs": [
    {
     "name": "stdout",
     "output_type": "stream",
     "text": [
      "It took 5.47 s\n"
     ]
    }
   ],
   "source": [
    "start_time = time.time()\n",
    "accuracies_cosine_weighted = knn_cross_val_score(\n",
    "    X_train, y_train, k_list,\n",
    "    \"accuracy\", folds,\n",
    "    metric=\"cosine\", weights=True\n",
    ")\n",
    "print(\"It took {:.2f} s\".format(time.time() - start_time))"
   ]
  },
  {
   "cell_type": "code",
   "execution_count": 10,
   "metadata": {},
   "outputs": [
    {
     "name": "stdout",
     "output_type": "stream",
     "text": [
      "1: 0.9503\n",
      "2: 0.9503\n",
      "3: 0.9538\n",
      "4: 0.9552\n",
      "5: 0.9526\n",
      "6: 0.9533\n",
      "7: 0.9513\n",
      "8: 0.9512\n",
      "9: 0.9510\n"
     ]
    }
   ],
   "source": [
    "for k, scores in accuracies_cosine_weighted.items():\n",
    "    print(\"{}: {:.4f}\".format(k, np.array(scores).mean()))"
   ]
  },
  {
   "cell_type": "markdown",
   "metadata": {},
   "source": [
    "Degrees"
   ]
  },
  {
   "cell_type": "markdown",
   "metadata": {},
   "source": [
    "5"
   ]
  },
  {
   "cell_type": "code",
   "execution_count": 11,
   "metadata": {
    "collapsed": true,
    "scrolled": true
   },
   "outputs": [],
   "source": [
    "X_train_rotated_ccw = np.apply_along_axis(\n",
    "    lambda x: misc.imrotate(x.reshape((28, 28)), 5).ravel(),\n",
    "    axis=1, arr=X_train\n",
    ")\n",
    "\n",
    "X_train_rotated_cw = np.apply_along_axis(\n",
    "    lambda x: misc.imrotate(x.reshape((28, 28)), -5).ravel(),\n",
    "    axis=1, arr=X_train\n",
    ")"
   ]
  },
  {
   "cell_type": "code",
   "execution_count": 12,
   "metadata": {
    "collapsed": true
   },
   "outputs": [],
   "source": [
    "X_train_modified = np.vstack((X_train, X_train_rotated_ccw, X_train_rotated_cw))"
   ]
  },
  {
   "cell_type": "code",
   "execution_count": 13,
   "metadata": {
    "collapsed": true
   },
   "outputs": [],
   "source": [
    "y_train_modified = np.hstack((y_train, y_train, y_train))"
   ]
  },
  {
   "cell_type": "code",
   "execution_count": 14,
   "metadata": {
    "scrolled": false
   },
   "outputs": [
    {
     "name": "stdout",
     "output_type": "stream",
     "text": [
      "It took 49.03 s\n"
     ]
    }
   ],
   "source": [
    "start_time = time.time()\n",
    "accuracies_rotated_5_12k = knn_cross_val_score(\n",
    "    X_train_modified, y_train_modified, [4],\n",
    "    \"accuracy\", mod_kfold(folds, 3),\n",
    "    metric=\"cosine\", weights=True\n",
    ")\n",
    "print(\"It took {:.2f} s\".format(time.time() - start_time))"
   ]
  },
  {
   "cell_type": "code",
   "execution_count": 15,
   "metadata": {
    "scrolled": true
   },
   "outputs": [
    {
     "name": "stdout",
     "output_type": "stream",
     "text": [
      "Accuracy: 0.9609166666666668\n"
     ]
    }
   ],
   "source": [
    "print(\"Accuracy: {}\".format(np.array(accuracies_rotated_5_12k[4]).mean()))"
   ]
  },
  {
   "cell_type": "code",
   "execution_count": 16,
   "metadata": {
    "collapsed": true
   },
   "outputs": [],
   "source": [
    "best_knn = KNNClassifier(4, strategy=\"brute\", metric=\"cosine\", weights=True)\n",
    "best_knn.fit(X_train_modified, y_train_modified)"
   ]
  },
  {
   "cell_type": "code",
   "execution_count": 17,
   "metadata": {},
   "outputs": [
    {
     "name": "stdout",
     "output_type": "stream",
     "text": [
      "It took 35.64 s\n"
     ]
    }
   ],
   "source": [
    "start_time = time.time()\n",
    "y_pred = best_knn.predict(X_test)\n",
    "print(\"It took {:.2f} s\".format(time.time() - start_time))"
   ]
  },
  {
   "cell_type": "code",
   "execution_count": 18,
   "metadata": {},
   "outputs": [
    {
     "name": "stdout",
     "output_type": "stream",
     "text": [
      "accuracy: 0.9691\n"
     ]
    }
   ],
   "source": [
    "print(\"accuracy: {}\".format((y_pred == y_test).sum() / y_test.shape[0]))"
   ]
  },
  {
   "cell_type": "markdown",
   "metadata": {},
   "source": [
    "10"
   ]
  },
  {
   "cell_type": "code",
   "execution_count": 19,
   "metadata": {
    "collapsed": true,
    "scrolled": true
   },
   "outputs": [],
   "source": [
    "X_train_rotated_ccw = np.apply_along_axis(\n",
    "    lambda x: misc.imrotate(x.reshape((28, 28)), 10).ravel(),\n",
    "    axis=1, arr=X_train\n",
    ")\n",
    "\n",
    "X_train_rotated_cw = np.apply_along_axis(\n",
    "    lambda x: misc.imrotate(x.reshape((28, 28)), -10).ravel(),\n",
    "    axis=1, arr=X_train\n",
    ")"
   ]
  },
  {
   "cell_type": "code",
   "execution_count": 20,
   "metadata": {
    "collapsed": true
   },
   "outputs": [],
   "source": [
    "X_train_modified = np.vstack((X_train, X_train_rotated_ccw, X_train_rotated_cw))"
   ]
  },
  {
   "cell_type": "code",
   "execution_count": 21,
   "metadata": {
    "collapsed": true
   },
   "outputs": [],
   "source": [
    "y_train_modified = np.hstack((y_train, y_train, y_train))"
   ]
  },
  {
   "cell_type": "code",
   "execution_count": 22,
   "metadata": {},
   "outputs": [
    {
     "name": "stdout",
     "output_type": "stream",
     "text": [
      "It took 47.34 s\n"
     ]
    }
   ],
   "source": [
    "start_time = time.time()\n",
    "accuracies_rotated_10_12k = knn_cross_val_score(\n",
    "    X_train_modified, y_train_modified, [4],\n",
    "    \"accuracy\", mod_kfold(folds, 3),\n",
    "    metric=\"cosine\", weights=True\n",
    ")\n",
    "print(\"It took {:.2f} s\".format(time.time() - start_time))"
   ]
  },
  {
   "cell_type": "code",
   "execution_count": 23,
   "metadata": {
    "scrolled": false
   },
   "outputs": [
    {
     "name": "stdout",
     "output_type": "stream",
     "text": [
      "Accuracy: 0.9617222222222223\n"
     ]
    }
   ],
   "source": [
    "print(\"Accuracy: {}\".format(np.array(accuracies_rotated_10_12k[4]).mean()))"
   ]
  },
  {
   "cell_type": "code",
   "execution_count": 24,
   "metadata": {
    "collapsed": true
   },
   "outputs": [],
   "source": [
    "best_knn = KNNClassifier(4, strategy=\"brute\", metric=\"cosine\", weights=True)\n",
    "best_knn.fit(X_train_modified, y_train_modified)"
   ]
  },
  {
   "cell_type": "code",
   "execution_count": 25,
   "metadata": {},
   "outputs": [
    {
     "name": "stdout",
     "output_type": "stream",
     "text": [
      "It took 36.02 s\n"
     ]
    }
   ],
   "source": [
    "start_time = time.time()\n",
    "y_pred = best_knn.predict(X_test)\n",
    "print(\"It took {:.2f} s\".format(time.time() - start_time))"
   ]
  },
  {
   "cell_type": "code",
   "execution_count": 26,
   "metadata": {},
   "outputs": [
    {
     "name": "stdout",
     "output_type": "stream",
     "text": [
      "accuracy: 0.9715\n"
     ]
    }
   ],
   "source": [
    "print(\"accuracy: {}\".format((y_pred == y_test).sum() / y_test.shape[0]))"
   ]
  },
  {
   "cell_type": "markdown",
   "metadata": {},
   "source": [
    "15"
   ]
  },
  {
   "cell_type": "code",
   "execution_count": 27,
   "metadata": {
    "collapsed": true,
    "scrolled": true
   },
   "outputs": [],
   "source": [
    "X_train_rotated_ccw = np.apply_along_axis(\n",
    "    lambda x: misc.imrotate(x.reshape((28, 28)), 15).ravel(),\n",
    "    axis=1, arr=X_train\n",
    ")\n",
    "\n",
    "X_train_rotated_cw = np.apply_along_axis(\n",
    "    lambda x: misc.imrotate(x.reshape((28, 28)), -15).ravel(),\n",
    "    axis=1, arr=X_train\n",
    ")"
   ]
  },
  {
   "cell_type": "code",
   "execution_count": 28,
   "metadata": {
    "collapsed": true
   },
   "outputs": [],
   "source": [
    "X_train_modified = np.vstack((X_train, X_train_rotated_ccw, X_train_rotated_cw))"
   ]
  },
  {
   "cell_type": "code",
   "execution_count": 29,
   "metadata": {
    "collapsed": true
   },
   "outputs": [],
   "source": [
    "y_train_modified = np.hstack((y_train, y_train, y_train))"
   ]
  },
  {
   "cell_type": "code",
   "execution_count": 30,
   "metadata": {},
   "outputs": [
    {
     "name": "stdout",
     "output_type": "stream",
     "text": [
      "It took 44.96 s\n"
     ]
    }
   ],
   "source": [
    "start_time = time.time()\n",
    "accuracies_rotated_15_12k = knn_cross_val_score(\n",
    "    X_train_modified, y_train_modified, [4],\n",
    "    \"accuracy\", mod_kfold(folds, 3),\n",
    "    metric=\"cosine\", weights=True\n",
    ")\n",
    "print(\"It took {:.2f} s\".format(time.time() - start_time))"
   ]
  },
  {
   "cell_type": "code",
   "execution_count": 31,
   "metadata": {
    "scrolled": false
   },
   "outputs": [
    {
     "name": "stdout",
     "output_type": "stream",
     "text": [
      "Accuracy: 0.9599444444444445\n"
     ]
    }
   ],
   "source": [
    "print(\"Accuracy: {}\".format(np.array(accuracies_rotated_15_12k[4]).mean()))"
   ]
  },
  {
   "cell_type": "code",
   "execution_count": 32,
   "metadata": {
    "collapsed": true
   },
   "outputs": [],
   "source": [
    "best_knn = KNNClassifier(4, strategy=\"brute\", metric=\"cosine\", weights=True)\n",
    "best_knn.fit(X_train_modified, y_train_modified)"
   ]
  },
  {
   "cell_type": "code",
   "execution_count": 33,
   "metadata": {},
   "outputs": [
    {
     "name": "stdout",
     "output_type": "stream",
     "text": [
      "It took 36.91 s\n"
     ]
    }
   ],
   "source": [
    "start_time = time.time()\n",
    "y_pred = best_knn.predict(X_test)\n",
    "print(\"It took {:.2f} s\".format(time.time() - start_time))"
   ]
  },
  {
   "cell_type": "code",
   "execution_count": 34,
   "metadata": {
    "scrolled": true
   },
   "outputs": [
    {
     "name": "stdout",
     "output_type": "stream",
     "text": [
      "accuracy: 0.9702\n"
     ]
    }
   ],
   "source": [
    "print(\"accuracy: {}\".format((y_pred == y_test).sum() / y_test.shape[0]))"
   ]
  },
  {
   "cell_type": "markdown",
   "metadata": {},
   "source": [
    "Shift"
   ]
  },
  {
   "cell_type": "markdown",
   "metadata": {},
   "source": [
    "1 px"
   ]
  },
  {
   "cell_type": "code",
   "execution_count": 35,
   "metadata": {
    "collapsed": true
   },
   "outputs": [],
   "source": [
    "X_train_shifted_up = np.apply_along_axis(\n",
    "    lambda x: ndimage.shift(x.reshape((28, 28)), [-1, 0]).ravel(),\n",
    "    axis=1, arr=X_train\n",
    ")\n",
    "\n",
    "X_train_shifted_down = np.apply_along_axis(\n",
    "    lambda x: ndimage.shift(x.reshape((28, 28)), [1, 0]).ravel(),\n",
    "    axis=1, arr=X_train\n",
    ")\n",
    "\n",
    "X_train_shifted_left = np.apply_along_axis(\n",
    "    lambda x: ndimage.shift(x.reshape((28, 28)), [0, -1]).ravel(),\n",
    "    axis=1, arr=X_train\n",
    ")\n",
    "\n",
    "X_train_shifted_right = np.apply_along_axis(\n",
    "    lambda x: ndimage.shift(x.reshape((28, 28)), [0, 1]).ravel(),\n",
    "    axis=1, arr=X_train\n",
    ")"
   ]
  },
  {
   "cell_type": "code",
   "execution_count": 36,
   "metadata": {
    "collapsed": true
   },
   "outputs": [],
   "source": [
    "X_train_modified = np.vstack((\n",
    "    X_train,\n",
    "    X_train_shifted_up,\n",
    "    X_train_shifted_down,\n",
    "    X_train_shifted_left,\n",
    "    X_train_shifted_right,\n",
    "))"
   ]
  },
  {
   "cell_type": "code",
   "execution_count": 37,
   "metadata": {
    "collapsed": true
   },
   "outputs": [],
   "source": [
    "y_train_modified = np.hstack((y_train, y_train, y_train, y_train, y_train))"
   ]
  },
  {
   "cell_type": "code",
   "execution_count": 38,
   "metadata": {},
   "outputs": [
    {
     "name": "stdout",
     "output_type": "stream",
     "text": [
      "It took 841.72 s\n"
     ]
    }
   ],
   "source": [
    "start_time = time.time()\n",
    "accuracies_shifted_1 = knn_cross_val_score(\n",
    "    X_train_modified, y_train_modified, [4],\n",
    "    \"accuracy\", mod_kfold(folds, 5),\n",
    "    metric=\"cosine\", weights=True\n",
    ")\n",
    "print(\"It took {:.2f} s\".format(time.time() - start_time))"
   ]
  },
  {
   "cell_type": "code",
   "execution_count": 39,
   "metadata": {},
   "outputs": [
    {
     "name": "stdout",
     "output_type": "stream",
     "text": [
      "Accuracy: 0.95935\n"
     ]
    }
   ],
   "source": [
    "print(\"Accuracy: {}\".format(np.array(accuracies_shifted_1[4]).mean()))"
   ]
  },
  {
   "cell_type": "code",
   "execution_count": 40,
   "metadata": {
    "collapsed": true
   },
   "outputs": [],
   "source": [
    "best_knn = KNNClassifier(4, strategy=\"brute\", metric=\"cosine\", weights=True)\n",
    "best_knn.fit(X_train_modified, y_train_modified)"
   ]
  },
  {
   "cell_type": "code",
   "execution_count": 41,
   "metadata": {},
   "outputs": [
    {
     "name": "stdout",
     "output_type": "stream",
     "text": [
      "It took 70.77 s\n"
     ]
    }
   ],
   "source": [
    "start_time = time.time()\n",
    "y_pred = best_knn.predict(X_test)\n",
    "print(\"It took {:.2f} s\".format(time.time() - start_time))"
   ]
  },
  {
   "cell_type": "code",
   "execution_count": 42,
   "metadata": {
    "scrolled": false
   },
   "outputs": [
    {
     "name": "stdout",
     "output_type": "stream",
     "text": [
      "accuracy: 0.9711\n"
     ]
    }
   ],
   "source": [
    "print(\"accuracy: {}\".format((y_pred == y_test).sum() / y_test.shape[0]))"
   ]
  },
  {
   "cell_type": "markdown",
   "metadata": {},
   "source": [
    "2 px"
   ]
  },
  {
   "cell_type": "code",
   "execution_count": 43,
   "metadata": {
    "collapsed": true
   },
   "outputs": [],
   "source": [
    "X_train_shifted_up = np.apply_along_axis(\n",
    "    lambda x: ndimage.shift(x.reshape((28, 28)), [-2, 0]).ravel(),\n",
    "    axis=1, arr=X_train\n",
    ")\n",
    "\n",
    "X_train_shifted_down = np.apply_along_axis(\n",
    "    lambda x: ndimage.shift(x.reshape((28, 28)), [2, 0]).ravel(),\n",
    "    axis=1, arr=X_train\n",
    ")\n",
    "\n",
    "X_train_shifted_left = np.apply_along_axis(\n",
    "    lambda x: ndimage.shift(x.reshape((28, 28)), [0, -2]).ravel(),\n",
    "    axis=1, arr=X_train\n",
    ")\n",
    "\n",
    "X_train_shifted_right = np.apply_along_axis(\n",
    "    lambda x: ndimage.shift(x.reshape((28, 28)), [0, 2]).ravel(),\n",
    "    axis=1, arr=X_train\n",
    ")"
   ]
  },
  {
   "cell_type": "code",
   "execution_count": 44,
   "metadata": {
    "collapsed": true
   },
   "outputs": [],
   "source": [
    "X_train_modified = np.vstack((\n",
    "    X_train,\n",
    "    X_train_shifted_up,\n",
    "    X_train_shifted_down,\n",
    "    X_train_shifted_left,\n",
    "    X_train_shifted_right,\n",
    "))"
   ]
  },
  {
   "cell_type": "code",
   "execution_count": 45,
   "metadata": {
    "collapsed": true
   },
   "outputs": [],
   "source": [
    "y_train_modified = np.hstack((y_train, y_train, y_train, y_train, y_train))"
   ]
  },
  {
   "cell_type": "code",
   "execution_count": 46,
   "metadata": {},
   "outputs": [
    {
     "name": "stdout",
     "output_type": "stream",
     "text": [
      "It took 845.41 s\n"
     ]
    }
   ],
   "source": [
    "start_time = time.time()\n",
    "accuracies_shifted_2 = knn_cross_val_score(\n",
    "    X_train_modified, y_train_modified, [4],\n",
    "    \"accuracy\", mod_kfoldfold(folds, 5),\n",
    "    metric=\"cosine\", weights=True\n",
    ")\n",
    "print(\"It took {:.2f} s\".format(time.time() - start_time))"
   ]
  },
  {
   "cell_type": "code",
   "execution_count": 47,
   "metadata": {},
   "outputs": [
    {
     "name": "stdout",
     "output_type": "stream",
     "text": [
      "Accuracy: 0.9572833333333334\n"
     ]
    }
   ],
   "source": [
    "print(\"Accuracy: {}\".format(np.array(accuracies_shifted_2[4]).mean()))"
   ]
  },
  {
   "cell_type": "code",
   "execution_count": 48,
   "metadata": {
    "collapsed": true
   },
   "outputs": [],
   "source": [
    "best_knn = KNNClassifier(4, strategy=\"brute\", metric=\"cosine\", weights=True)\n",
    "best_knn.fit(X_train_modified, y_train_modified)"
   ]
  },
  {
   "cell_type": "code",
   "execution_count": 49,
   "metadata": {},
   "outputs": [
    {
     "name": "stdout",
     "output_type": "stream",
     "text": [
      "It took 62.53 s\n"
     ]
    }
   ],
   "source": [
    "start_time = time.time()\n",
    "y_pred = best_knn.predict(X_test)\n",
    "print(\"It took {:.2f} s\".format(time.time() - start_time))"
   ]
  },
  {
   "cell_type": "code",
   "execution_count": 50,
   "metadata": {
    "scrolled": false
   },
   "outputs": [
    {
     "name": "stdout",
     "output_type": "stream",
     "text": [
      "accuracy: 0.9659\n"
     ]
    }
   ],
   "source": [
    "print(\"accuracy: {}\".format((y_pred == y_test).sum() / y_test.shape[0]))"
   ]
  },
  {
   "cell_type": "markdown",
   "metadata": {},
   "source": [
    "3 px"
   ]
  },
  {
   "cell_type": "code",
   "execution_count": 51,
   "metadata": {
    "collapsed": true
   },
   "outputs": [],
   "source": [
    "X_train_shifted_up = np.apply_along_axis(\n",
    "    lambda x: ndimage.shift(x.reshape((28, 28)), [-3, 0]).ravel(),\n",
    "    axis=1, arr=X_train\n",
    ")\n",
    "\n",
    "X_train_shifted_down = np.apply_along_axis(\n",
    "    lambda x: ndimage.shift(x.reshape((28, 28)), [3, 0]).ravel(),\n",
    "    axis=1, arr=X_train\n",
    ")\n",
    "\n",
    "X_train_shifted_left = np.apply_along_axis(\n",
    "    lambda x: ndimage.shift(x.reshape((28, 28)), [0, -3]).ravel(),\n",
    "    axis=1, arr=X_train\n",
    ")\n",
    "\n",
    "X_train_shifted_right = np.apply_along_axis(\n",
    "    lambda x: ndimage.shift(x.reshape((28, 28)), [0, 3]).ravel(),\n",
    "    axis=1, arr=X_train\n",
    ")"
   ]
  },
  {
   "cell_type": "code",
   "execution_count": 52,
   "metadata": {
    "collapsed": true
   },
   "outputs": [],
   "source": [
    "X_train_modified = np.vstack((\n",
    "    X_train,\n",
    "    X_train_shifted_up,\n",
    "    X_train_shifted_down,\n",
    "    X_train_shifted_left,\n",
    "    X_train_shifted_right,\n",
    "))"
   ]
  },
  {
   "cell_type": "code",
   "execution_count": 53,
   "metadata": {
    "collapsed": true
   },
   "outputs": [],
   "source": [
    "y_train_modified = np.hstack((y_train, y_train, y_train, y_train, y_train))"
   ]
  },
  {
   "cell_type": "code",
   "execution_count": 54,
   "metadata": {},
   "outputs": [
    {
     "name": "stdout",
     "output_type": "stream",
     "text": [
      "It took 701.83 s\n"
     ]
    }
   ],
   "source": [
    "start_time = time.time()\n",
    "accuracies_shifted_3 = knn_cross_val_score(\n",
    "    X_train_modified, y_train_modified, [4],\n",
    "    \"accuracy\", mod_kfold(folds, 5),\n",
    "    metric=\"cosine\", weights=True\n",
    ")\n",
    "print(\"It took {:.2f} s\".format(time.time() - start_time))"
   ]
  },
  {
   "cell_type": "code",
   "execution_count": 55,
   "metadata": {},
   "outputs": [
    {
     "name": "stdout",
     "output_type": "stream",
     "text": [
      "Accuracy: 0.9557000000000001\n"
     ]
    }
   ],
   "source": [
    "print(\"Accuracy: {}\".format(np.array(accuracies_shifted_3[4]).mean()))"
   ]
  },
  {
   "cell_type": "code",
   "execution_count": 56,
   "metadata": {
    "collapsed": true
   },
   "outputs": [],
   "source": [
    "best_knn = KNNClassifier(4, strategy=\"brute\", metric=\"cosine\", weights=True)\n",
    "best_knn.fit(X_train_modified, y_train_modified)"
   ]
  },
  {
   "cell_type": "code",
   "execution_count": 57,
   "metadata": {},
   "outputs": [
    {
     "name": "stdout",
     "output_type": "stream",
     "text": [
      "It took 59.65 s\n"
     ]
    }
   ],
   "source": [
    "start_time = time.time()\n",
    "y_pred = best_knn.predict(X_test)\n",
    "print(\"It took {:.2f} s\".format(time.time() - start_time))"
   ]
  },
  {
   "cell_type": "code",
   "execution_count": 58,
   "metadata": {
    "scrolled": false
   },
   "outputs": [
    {
     "name": "stdout",
     "output_type": "stream",
     "text": [
      "accuracy: 0.9645\n"
     ]
    }
   ],
   "source": [
    "print(\"accuracy: {}\".format((y_pred == y_test).sum() / y_test.shape[0]))"
   ]
  },
  {
   "cell_type": "markdown",
   "metadata": {},
   "source": [
    "Gaussian"
   ]
  },
  {
   "cell_type": "markdown",
   "metadata": {},
   "source": [
    "$\\sigma^2 = 0.5$"
   ]
  },
  {
   "cell_type": "code",
   "execution_count": 59,
   "metadata": {
    "collapsed": true
   },
   "outputs": [],
   "source": [
    "X_train_filtered = np.apply_along_axis(\n",
    "    lambda x: ndimage.gaussian_filter(x.reshape((28, 28)), 0.5 ** (1/2)).ravel(),\n",
    "    axis=1, arr=X_train\n",
    ")"
   ]
  },
  {
   "cell_type": "code",
   "execution_count": 60,
   "metadata": {
    "collapsed": true
   },
   "outputs": [],
   "source": [
    "X_train_modified = np.vstack((\n",
    "    X_train,\n",
    "    X_train_filtered,\n",
    "))"
   ]
  },
  {
   "cell_type": "code",
   "execution_count": 61,
   "metadata": {
    "collapsed": true
   },
   "outputs": [],
   "source": [
    "y_train_modified = np.hstack((y_train, y_train))"
   ]
  },
  {
   "cell_type": "code",
   "execution_count": 62,
   "metadata": {},
   "outputs": [
    {
     "name": "stdout",
     "output_type": "stream",
     "text": [
      "It took 18.91 s\n"
     ]
    }
   ],
   "source": [
    "start_time = time.time()\n",
    "accuracies_filtered_1_12k = knn_cross_val_score(\n",
    "    X_train_modified, y_train_modified, [4],\n",
    "    \"accuracy\", mod_kfold(folds, 2),\n",
    "    metric=\"cosine\", weights=True\n",
    ")\n",
    "print(\"It took {:.2f} s\".format(time.time() - start_time))"
   ]
  },
  {
   "cell_type": "code",
   "execution_count": 63,
   "metadata": {},
   "outputs": [
    {
     "name": "stdout",
     "output_type": "stream",
     "text": [
      "Accuracy: 0.9605416666666665\n"
     ]
    }
   ],
   "source": [
    "print(\"Accuracy: {}\".format(np.array(accuracies_filtered_1_12k[4]).mean()))"
   ]
  },
  {
   "cell_type": "code",
   "execution_count": 64,
   "metadata": {
    "collapsed": true
   },
   "outputs": [],
   "source": [
    "best_knn = KNNClassifier(4, strategy=\"brute\", metric=\"cosine\", weights=True)\n",
    "best_knn.fit(X_train_modified, y_train_modified)"
   ]
  },
  {
   "cell_type": "code",
   "execution_count": 65,
   "metadata": {},
   "outputs": [
    {
     "name": "stdout",
     "output_type": "stream",
     "text": [
      "It took 23.38 s\n"
     ]
    }
   ],
   "source": [
    "start_time = time.time()\n",
    "y_pred = best_knn.predict(X_test)\n",
    "print(\"It took {:.2f} s\".format(time.time() - start_time))"
   ]
  },
  {
   "cell_type": "code",
   "execution_count": 66,
   "metadata": {},
   "outputs": [
    {
     "name": "stdout",
     "output_type": "stream",
     "text": [
      "accuracy: 0.9695\n"
     ]
    }
   ],
   "source": [
    "print(\"accuracy: {}\".format((y_pred == y_test).sum() / y_test.shape[0]))"
   ]
  },
  {
   "cell_type": "markdown",
   "metadata": {},
   "source": [
    "$\\sigma^2 = 1$"
   ]
  },
  {
   "cell_type": "code",
   "execution_count": 67,
   "metadata": {
    "collapsed": true
   },
   "outputs": [],
   "source": [
    "X_train_filtered = np.apply_along_axis(\n",
    "    lambda x: ndimage.gaussian_filter(x.reshape((28, 28)), 1 ** (1/2)).ravel(),\n",
    "    axis=1, arr=X_train\n",
    ")"
   ]
  },
  {
   "cell_type": "code",
   "execution_count": 68,
   "metadata": {
    "collapsed": true
   },
   "outputs": [],
   "source": [
    "X_train_modified = np.vstack((\n",
    "    X_train,\n",
    "    X_train_filtered,\n",
    "))"
   ]
  },
  {
   "cell_type": "code",
   "execution_count": 69,
   "metadata": {
    "collapsed": true
   },
   "outputs": [],
   "source": [
    "y_train_modified = np.hstack((y_train, y_train))"
   ]
  },
  {
   "cell_type": "code",
   "execution_count": 70,
   "metadata": {},
   "outputs": [
    {
     "name": "stdout",
     "output_type": "stream",
     "text": [
      "It took 18.83 s\n"
     ]
    }
   ],
   "source": [
    "start_time = time.time()\n",
    "accuracies_filtered_2_12k = knn_cross_val_score(\n",
    "    X_train_modified, y_train_modified, [4],\n",
    "    \"accuracy\", mod_kfold(folds, 2),\n",
    "    metric=\"cosine\", weights=True\n",
    ")\n",
    "print(\"It took {:.2f} s\".format(time.time() - start_time))"
   ]
  },
  {
   "cell_type": "code",
   "execution_count": 71,
   "metadata": {},
   "outputs": [
    {
     "name": "stdout",
     "output_type": "stream",
     "text": [
      "Accuracy: 0.96125\n"
     ]
    }
   ],
   "source": [
    "print(\"Accuracy: {}\".format(np.array(accuracies_filtered_2_12k[4]).mean()))"
   ]
  },
  {
   "cell_type": "code",
   "execution_count": 72,
   "metadata": {
    "collapsed": true
   },
   "outputs": [],
   "source": [
    "best_knn = KNNClassifier(4, strategy=\"brute\", metric=\"cosine\", weights=True)\n",
    "best_knn.fit(X_train_modified, y_train_modified)"
   ]
  },
  {
   "cell_type": "code",
   "execution_count": 73,
   "metadata": {},
   "outputs": [
    {
     "name": "stdout",
     "output_type": "stream",
     "text": [
      "It took 23.32 s\n"
     ]
    }
   ],
   "source": [
    "start_time = time.time()\n",
    "y_pred = best_knn.predict(X_test)\n",
    "print(\"It took {:.2f} s\".format(time.time() - start_time))"
   ]
  },
  {
   "cell_type": "code",
   "execution_count": 74,
   "metadata": {},
   "outputs": [
    {
     "name": "stdout",
     "output_type": "stream",
     "text": [
      "accuracy: 0.9698\n"
     ]
    }
   ],
   "source": [
    "print(\"accuracy: {}\".format((y_pred == y_test).sum() / y_test.shape[0]))"
   ]
  },
  {
   "cell_type": "markdown",
   "metadata": {},
   "source": [
    "$\\sigma^2 = 1.5$"
   ]
  },
  {
   "cell_type": "code",
   "execution_count": 75,
   "metadata": {
    "collapsed": true
   },
   "outputs": [],
   "source": [
    "X_train_filtered = np.apply_along_axis(\n",
    "    lambda x: ndimage.gaussian_filter(x.reshape((28, 28)), 1.5 ** (1/2)).ravel(),\n",
    "    axis=1, arr=X_train\n",
    ")"
   ]
  },
  {
   "cell_type": "code",
   "execution_count": 76,
   "metadata": {
    "collapsed": true
   },
   "outputs": [],
   "source": [
    "X_train_modified = np.vstack((\n",
    "    X_train,\n",
    "    X_train_filtered,\n",
    "))"
   ]
  },
  {
   "cell_type": "code",
   "execution_count": 77,
   "metadata": {
    "collapsed": true
   },
   "outputs": [],
   "source": [
    "y_train_modified = np.hstack((y_train, y_train))"
   ]
  },
  {
   "cell_type": "code",
   "execution_count": 78,
   "metadata": {},
   "outputs": [
    {
     "name": "stdout",
     "output_type": "stream",
     "text": [
      "It took 18.76 s\n"
     ]
    }
   ],
   "source": [
    "start_time = time.time()\n",
    "accuracies_filtered_3_12k = knn_cross_val_score(\n",
    "    X_train_modified, y_train_modified, [4],\n",
    "    \"accuracy\", mod_kfold(folds, 2),\n",
    "    metric=\"cosine\", weights=True\n",
    ")\n",
    "print(\"It took {:.2f} s\".format(time.time() - start_time))"
   ]
  },
  {
   "cell_type": "code",
   "execution_count": 79,
   "metadata": {},
   "outputs": [
    {
     "name": "stdout",
     "output_type": "stream",
     "text": [
      "Accuracy: 0.9610833333333334\n"
     ]
    }
   ],
   "source": [
    "print(\"Accuracy: {}\".format(np.array(accuracies_filtered_3_12k[4]).mean()))"
   ]
  },
  {
   "cell_type": "code",
   "execution_count": 80,
   "metadata": {
    "collapsed": true
   },
   "outputs": [],
   "source": [
    "best_knn = KNNClassifier(4, strategy=\"brute\", metric=\"cosine\", weights=True)\n",
    "best_knn.fit(X_train_modified, y_train_modified)"
   ]
  },
  {
   "cell_type": "code",
   "execution_count": 81,
   "metadata": {},
   "outputs": [
    {
     "name": "stdout",
     "output_type": "stream",
     "text": [
      "It took 23.31 s\n"
     ]
    }
   ],
   "source": [
    "start_time = time.time()\n",
    "y_pred = best_knn.predict(X_test)\n",
    "print(\"It took {:.2f} s\".format(time.time() - start_time))"
   ]
  },
  {
   "cell_type": "code",
   "execution_count": 82,
   "metadata": {
    "scrolled": true
   },
   "outputs": [
    {
     "name": "stdout",
     "output_type": "stream",
     "text": [
      "accuracy: 0.9702\n"
     ]
    }
   ],
   "source": [
    "print(\"accuracy: {}\".format((y_pred == y_test).sum() / y_test.shape[0]))"
   ]
  },
  {
   "cell_type": "markdown",
   "metadata": {},
   "source": [
    "Final"
   ]
  },
  {
   "cell_type": "code",
   "execution_count": 91,
   "metadata": {
    "collapsed": true
   },
   "outputs": [],
   "source": [
    "X_train_rotated_ccw = np.apply_along_axis(\n",
    "    lambda x: misc.imrotate(x.reshape((28, 28)), 10).ravel(),\n",
    "    axis=1, arr=X_train\n",
    ")\n",
    "\n",
    "X_train_rotated_cw = np.apply_along_axis(\n",
    "    lambda x: misc.imrotate(x.reshape((28, 28)), -10).ravel(),\n",
    "    axis=1, arr=X_train\n",
    ")\n",
    "\n",
    "X_train_shifted_up = np.apply_along_axis(\n",
    "    lambda x: ndimage.shift(x.reshape((28, 28)), [-1, 0]).ravel(),\n",
    "    axis=1, arr=X_train\n",
    ")\n",
    "\n",
    "X_train_shifted_down = np.apply_along_axis(\n",
    "    lambda x: ndimage.shift(x.reshape((28, 28)), [1, 0]).ravel(),\n",
    "    axis=1, arr=X_train\n",
    ")\n",
    "\n",
    "X_train_shifted_left = np.apply_along_axis(\n",
    "    lambda x: ndimage.shift(x.reshape((28, 28)), [0, -1]).ravel(),\n",
    "    axis=1, arr=X_train\n",
    ")\n",
    "\n",
    "X_train_shifted_right = np.apply_along_axis(\n",
    "    lambda x: ndimage.shift(x.reshape((28, 28)), [0, 1]).ravel(),\n",
    "    axis=1, arr=X_train\n",
    ")\n",
    "\n",
    "X_train_filtered = np.apply_along_axis(\n",
    "    lambda x: ndimage.gaussian_filter(x.reshape((28, 28)), 1 ** (1/2)).ravel(),\n",
    "    axis=1, arr=X_train\n",
    ")"
   ]
  },
  {
   "cell_type": "code",
   "execution_count": 92,
   "metadata": {
    "collapsed": true
   },
   "outputs": [],
   "source": [
    "X_train_modified = np.vstack((\n",
    "    X_train,\n",
    "    X_train_rotated_ccw,\n",
    "    X_train_rotated_cw,\n",
    "    X_train_shifted_up,\n",
    "    X_train_shifted_down,\n",
    "    X_train_shifted_left,\n",
    "    X_train_shifted_right,\n",
    "    X_train_filtered\n",
    "))"
   ]
  },
  {
   "cell_type": "code",
   "execution_count": 98,
   "metadata": {},
   "outputs": [
    {
     "data": {
      "text/plain": [
       "(60000, 784)"
      ]
     },
     "execution_count": 98,
     "metadata": {},
     "output_type": "execute_result"
    }
   ],
   "source": [
    "X_train.shape"
   ]
  },
  {
   "cell_type": "code",
   "execution_count": 97,
   "metadata": {},
   "outputs": [
    {
     "data": {
      "text/plain": [
       "(480000, 784)"
      ]
     },
     "execution_count": 97,
     "metadata": {},
     "output_type": "execute_result"
    }
   ],
   "source": [
    "X_train_modified.shape"
   ]
  },
  {
   "cell_type": "code",
   "execution_count": 93,
   "metadata": {
    "collapsed": true
   },
   "outputs": [],
   "source": [
    "y_train_modified = np.hstack((y_train, y_train, y_train, y_train, y_train, y_train, y_train, y_train))"
   ]
  },
  {
   "cell_type": "code",
   "execution_count": 94,
   "metadata": {
    "collapsed": true
   },
   "outputs": [],
   "source": [
    "best_knn = KNNClassifier(4, strategy=\"brute\", metric=\"cosine\", weights=True)\n",
    "best_knn.fit(X_train_modified, y_train_modified)"
   ]
  },
  {
   "cell_type": "code",
   "execution_count": 95,
   "metadata": {},
   "outputs": [
    {
     "name": "stdout",
     "output_type": "stream",
     "text": [
      "It took 734.76 s\n"
     ]
    }
   ],
   "source": [
    "start_time = time.time()\n",
    "y_pred = best_knn.predict(X_test)\n",
    "print(\"It took {:.2f} s\".format(time.time() - start_time))"
   ]
  },
  {
   "cell_type": "code",
   "execution_count": 96,
   "metadata": {
    "scrolled": true
   },
   "outputs": [
    {
     "name": "stdout",
     "output_type": "stream",
     "text": [
      "accuracy: 0.9851\n"
     ]
    }
   ],
   "source": [
    "print(\"accuracy: {}\".format((y_pred == y_test).sum() / y_test.shape[0]))"
   ]
  },
  {
   "cell_type": "markdown",
   "metadata": {},
   "source": [
    "## Experiment 5.1"
   ]
  },
  {
   "cell_type": "code",
   "execution_count": 42,
   "metadata": {
    "collapsed": true
   },
   "outputs": [],
   "source": [
    "best_knn = KNNClassifier(4, strategy=\"brute\", metric=\"cosine\", weights=True)"
   ]
  },
  {
   "cell_type": "markdown",
   "metadata": {},
   "source": [
    "(a)"
   ]
  },
  {
   "cell_type": "code",
   "execution_count": 43,
   "metadata": {
    "collapsed": true
   },
   "outputs": [],
   "source": [
    "X_train_rotated_ccw = np.apply_along_axis(\n",
    "    lambda x: misc.imrotate(x.reshape((28, 28)), 10).ravel(),\n",
    "    axis=1, arr=X_train\n",
    ")\n",
    "\n",
    "X_train_rotated_cw = np.apply_along_axis(\n",
    "    lambda x: misc.imrotate(x.reshape((28, 28)), -10).ravel(),\n",
    "    axis=1, arr=X_train\n",
    ")"
   ]
  },
  {
   "cell_type": "code",
   "execution_count": 44,
   "metadata": {
    "collapsed": true
   },
   "outputs": [],
   "source": [
    "X_train_modified = np.vstack((\n",
    "    X_train,\n",
    "    X_train_rotated_ccw,\n",
    "    X_train_rotated_cw\n",
    "))"
   ]
  },
  {
   "cell_type": "code",
   "execution_count": 45,
   "metadata": {
    "collapsed": true
   },
   "outputs": [],
   "source": [
    "y_train_modified = np.hstack((y_train, y_train, y_train))"
   ]
  },
  {
   "cell_type": "code",
   "execution_count": 46,
   "metadata": {
    "collapsed": true
   },
   "outputs": [],
   "source": [
    "best_knn.fit(X_train_modified, y_train_modified)"
   ]
  },
  {
   "cell_type": "code",
   "execution_count": 47,
   "metadata": {},
   "outputs": [
    {
     "name": "stdout",
     "output_type": "stream",
     "text": [
      "It took 187.27 s\n"
     ]
    }
   ],
   "source": [
    "start_time = time.time()\n",
    "y_pred = best_knn.predict(X_test)\n",
    "print(\"It took {:.2f} s\".format(time.time() - start_time))"
   ]
  },
  {
   "cell_type": "code",
   "execution_count": 48,
   "metadata": {},
   "outputs": [
    {
     "name": "stdout",
     "output_type": "stream",
     "text": [
      "accuracy: 0.9813\n"
     ]
    }
   ],
   "source": [
    "print(\"accuracy: {}\".format((y_pred == y_test).sum() / y_test.shape[0]))"
   ]
  },
  {
   "cell_type": "code",
   "execution_count": 50,
   "metadata": {
    "scrolled": true
   },
   "outputs": [
    {
     "data": {
      "image/png": "[encoded data removed]",
      "text/plain": [
       "<matplotlib.figure.Figure at 0x10a4687f0>"
      ]
     },
     "metadata": {},
     "output_type": "display_data"
    }
   ],
   "source": [
    "cm = confusion_matrix(y_test, y_pred)\n",
    "cm[(np.arange(10), np.arange(10))] = 0\n",
    "plot_confusion_matrix(cm, range(10), title='')\n",
    "plt.savefig(\"cm_2.pdf\", format='pdf', bbox_inches='tight', pad_inches=0.1)"
   ]
  },
  {
   "cell_type": "markdown",
   "metadata": {},
   "source": [
    "(b)"
   ]
  },
  {
   "cell_type": "code",
   "execution_count": 51,
   "metadata": {
    "collapsed": true
   },
   "outputs": [],
   "source": [
    "X_train_shifted_up = np.apply_along_axis(\n",
    "    lambda x: ndimage.shift(x.reshape((28, 28)), [-1, 0]).ravel(),\n",
    "    axis=1, arr=X_train\n",
    ")\n",
    "\n",
    "X_train_shifted_down = np.apply_along_axis(\n",
    "    lambda x: ndimage.shift(x.reshape((28, 28)), [1, 0]).ravel(),\n",
    "    axis=1, arr=X_train\n",
    ")\n",
    "\n",
    "X_train_shifted_left = np.apply_along_axis(\n",
    "    lambda x: ndimage.shift(x.reshape((28, 28)), [0, -1]).ravel(),\n",
    "    axis=1, arr=X_train\n",
    ")\n",
    "\n",
    "X_train_shifted_right = np.apply_along_axis(\n",
    "    lambda x: ndimage.shift(x.reshape((28, 28)), [0, 1]).ravel(),\n",
    "    axis=1, arr=X_train\n",
    ")"
   ]
  },
  {
   "cell_type": "code",
   "execution_count": 52,
   "metadata": {
    "collapsed": true
   },
   "outputs": [],
   "source": [
    "X_train_modified = np.vstack((\n",
    "    X_train,\n",
    "    X_train_shifted_up,\n",
    "    X_train_shifted_down,\n",
    "    X_train_shifted_left,\n",
    "    X_train_shifted_right\n",
    "))"
   ]
  },
  {
   "cell_type": "code",
   "execution_count": 53,
   "metadata": {
    "collapsed": true
   },
   "outputs": [],
   "source": [
    "y_train_modified = np.hstack((y_train, y_train, y_train, y_train, y_train))"
   ]
  },
  {
   "cell_type": "code",
   "execution_count": 54,
   "metadata": {
    "collapsed": true
   },
   "outputs": [],
   "source": [
    "best_knn.fit(X_train_modified, y_train_modified)"
   ]
  },
  {
   "cell_type": "code",
   "execution_count": 55,
   "metadata": {
    "scrolled": true
   },
   "outputs": [
    {
     "name": "stdout",
     "output_type": "stream",
     "text": [
      "It took 381.23 s\n"
     ]
    }
   ],
   "source": [
    "start_time = time.time()\n",
    "y_pred = best_knn.predict(X_test)\n",
    "print(\"It took {:.2f} s\".format(time.time() - start_time))"
   ]
  },
  {
   "cell_type": "code",
   "execution_count": 56,
   "metadata": {},
   "outputs": [
    {
     "name": "stdout",
     "output_type": "stream",
     "text": [
      "accuracy: 0.9798\n"
     ]
    }
   ],
   "source": [
    "print(\"accuracy: {}\".format((y_pred == y_test).sum() / y_test.shape[0]))"
   ]
  },
  {
   "cell_type": "code",
   "execution_count": 57,
   "metadata": {
    "scrolled": false
   },
   "outputs": [
    {
     "data": {
      "image/png": "[encoded data removed]",
      "text/plain": [
       "<matplotlib.figure.Figure at 0x10b92b9b0>"
      ]
     },
     "metadata": {},
     "output_type": "display_data"
    }
   ],
   "source": [
    "cm = confusion_matrix(y_test, y_pred)\n",
    "cm[(np.arange(10), np.arange(10))] = 0\n",
    "plot_confusion_matrix(cm, range(10), title='')\n",
    "plt.savefig(\"cm_3.pdf\", format='pdf', bbox_inches='tight', pad_inches=0.1)"
   ]
  },
  {
   "cell_type": "markdown",
   "metadata": {},
   "source": [
    "(c)"
   ]
  },
  {
   "cell_type": "code",
   "execution_count": 58,
   "metadata": {
    "collapsed": true
   },
   "outputs": [],
   "source": [
    "X_train_filtered = np.apply_along_axis(\n",
    "    lambda x: ndimage.gaussian_filter(x.reshape((28, 28)), 1 ** (1/2)).ravel(),\n",
    "    axis=1, arr=X_train\n",
    ")"
   ]
  },
  {
   "cell_type": "code",
   "execution_count": 59,
   "metadata": {
    "collapsed": true
   },
   "outputs": [],
   "source": [
    "X_train_modified = np.vstack((\n",
    "    X_train,\n",
    "    X_train_filtered\n",
    "))"
   ]
  },
  {
   "cell_type": "code",
   "execution_count": 60,
   "metadata": {
    "collapsed": true
   },
   "outputs": [],
   "source": [
    "y_train_modified = np.hstack((y_train, y_train))"
   ]
  },
  {
   "cell_type": "code",
   "execution_count": 61,
   "metadata": {
    "collapsed": true
   },
   "outputs": [],
   "source": [
    "best_knn.fit(X_train_modified, y_train_modified)"
   ]
  },
  {
   "cell_type": "code",
   "execution_count": 62,
   "metadata": {},
   "outputs": [
    {
     "name": "stdout",
     "output_type": "stream",
     "text": [
      "It took 120.48 s\n"
     ]
    }
   ],
   "source": [
    "start_time = time.time()\n",
    "y_pred = best_knn.predict(X_test)\n",
    "print(\"It took {:.2f} s\".format(time.time() - start_time))"
   ]
  },
  {
   "cell_type": "code",
   "execution_count": 63,
   "metadata": {},
   "outputs": [
    {
     "name": "stdout",
     "output_type": "stream",
     "text": [
      "accuracy: 0.9814\n"
     ]
    }
   ],
   "source": [
    "print(\"accuracy: {}\".format((y_pred == y_test).sum() / y_test.shape[0]))"
   ]
  },
  {
   "cell_type": "code",
   "execution_count": 64,
   "metadata": {
    "scrolled": true
   },
   "outputs": [
    {
     "data": {
      "image/png": "[encoded data removed]",
      "text/plain": [
       "<matplotlib.figure.Figure at 0x10b7d08d0>"
      ]
     },
     "metadata": {},
     "output_type": "display_data"
    }
   ],
   "source": [
    "cm = confusion_matrix(y_test, y_pred)\n",
    "cm[(np.arange(10), np.arange(10))] = 0\n",
    "plot_confusion_matrix(cm, range(10), title='')\n",
    "plt.savefig(\"cm_4.pdf\", format='pdf', bbox_inches='tight', pad_inches=0.1)"
   ]
  },
  {
   "cell_type": "markdown",
   "metadata": {},
   "source": [
    "## Experiment 6"
   ]
  },
  {
   "cell_type": "markdown",
   "metadata": {},
   "source": [
    "On 60k objs"
   ]
  },
  {
   "cell_type": "code",
   "execution_count": 7,
   "metadata": {
    "collapsed": true
   },
   "outputs": [],
   "source": [
    "X_test_rotated_ccw = np.apply_along_axis(\n",
    "    lambda x: misc.imrotate(x.reshape((28, 28)), 10).ravel(),\n",
    "    axis=1, arr=X_test\n",
    ")\n",
    "\n",
    "X_test_rotated_cw = np.apply_along_axis(\n",
    "    lambda x: misc.imrotate(x.reshape((28, 28)), -10).ravel(),\n",
    "    axis=1, arr=X_test\n",
    ")\n",
    "\n",
    "X_test_shifted_up = np.apply_along_axis(\n",
    "    lambda x: ndimage.shift(x.reshape((28, 28)), [-1, 0]).ravel(),\n",
    "    axis=1, arr=X_test\n",
    ")\n",
    "\n",
    "X_test_shifted_down = np.apply_along_axis(\n",
    "    lambda x: ndimage.shift(x.reshape((28, 28)), [1, 0]).ravel(),\n",
    "    axis=1, arr=X_test\n",
    ")\n",
    "\n",
    "X_test_shifted_left = np.apply_along_axis(\n",
    "    lambda x: ndimage.shift(x.reshape((28, 28)), [0, -1]).ravel(),\n",
    "    axis=1, arr=X_test\n",
    ")\n",
    "\n",
    "X_test_shifted_right = np.apply_along_axis(\n",
    "    lambda x: ndimage.shift(x.reshape((28, 28)), [0, 1]).ravel(),\n",
    "    axis=1, arr=X_test\n",
    ")\n",
    "\n",
    "X_test_filtered = np.apply_along_axis(\n",
    "    lambda x: ndimage.gaussian_filter(x.reshape((28, 28)), 1 ** (1/2)).ravel(),\n",
    "    axis=1, arr=X_test\n",
    ")"
   ]
  },
  {
   "cell_type": "code",
   "execution_count": 8,
   "metadata": {
    "collapsed": true
   },
   "outputs": [],
   "source": [
    "X_test_set = [\n",
    "    X_test, X_test_rotated_ccw, X_test_rotated_cw,\n",
    "    X_test_shifted_up, X_test_shifted_down, X_test_shifted_left, X_test_shifted_right,\n",
    "    X_test_filtered\n",
    "]"
   ]
  },
  {
   "cell_type": "code",
   "execution_count": 10,
   "metadata": {
    "collapsed": true
   },
   "outputs": [],
   "source": [
    "best_knn = KNNClassifier(4, strategy=\"brute\", metric=\"cosine\", weights=True)"
   ]
  },
  {
   "cell_type": "code",
   "execution_count": 12,
   "metadata": {
    "collapsed": true
   },
   "outputs": [],
   "source": [
    "best_knn.fit(X_train, y_train)"
   ]
  },
  {
   "cell_type": "code",
   "execution_count": 13,
   "metadata": {},
   "outputs": [
    {
     "name": "stdout",
     "output_type": "stream",
     "text": [
      "It took 412.41 s\n"
     ]
    }
   ],
   "source": [
    "start_time = time.time()\n",
    "y_pred = best_knn.predict_sets(X_test_set)\n",
    "print(\"It took {:.2f} s\".format(time.time() - start_time))"
   ]
  },
  {
   "cell_type": "code",
   "execution_count": 14,
   "metadata": {
    "scrolled": false
   },
   "outputs": [
    {
     "name": "stdout",
     "output_type": "stream",
     "text": [
      "accuracy: 0.9701\n"
     ]
    }
   ],
   "source": [
    "print(\"accuracy: {}\".format((y_pred == y_test).sum() / y_test.shape[0]))"
   ]
  },
  {
   "cell_type": "code",
   "execution_count": 15,
   "metadata": {},
   "outputs": [
    {
     "name": "stdout",
     "output_type": "stream",
     "text": [
      "It took 59.81 s\n"
     ]
    }
   ],
   "source": [
    "start_time = time.time()\n",
    "y_pred_nonfiltered = best_knn.predict(X_test)\n",
    "print(\"It took {:.2f} s\".format(time.time() - start_time))"
   ]
  },
  {
   "cell_type": "code",
   "execution_count": 16,
   "metadata": {},
   "outputs": [
    {
     "name": "stdout",
     "output_type": "stream",
     "text": [
      "accuracy: 0.9752\n"
     ]
    }
   ],
   "source": [
    "print(\"accuracy: {}\".format((y_pred_nonfiltered == y_test).sum() / y_test.shape[0]))"
   ]
  },
  {
   "cell_type": "markdown",
   "metadata": {},
   "source": [
    "## Let's write cross validation!"
   ]
  },
  {
   "cell_type": "code",
   "execution_count": 11,
   "metadata": {},
   "outputs": [],
   "source": [
    "X_test = X[60000:]\n",
    "y_test = y[60000:]\n",
    "\n",
    "train_inds = np.arange(60000)\n",
    "np.random.shuffle(train_inds)\n",
    "train_inds = train_inds[:12000]\n",
    "#for i in range(10):\n",
    "#    train_inds = np.r_[train_inds, np.arange(i * 6000 + 300 * i, i * 6000 + 2000 + 300 * i)]\n",
    "\n",
    "X_train = X[train_inds]\n",
    "y_train = y[train_inds]"
   ]
  },
  {
   "cell_type": "code",
   "execution_count": 12,
   "metadata": {},
   "outputs": [
    {
     "data": {
      "text/plain": [
       "(array([ 1233.,  1350.,  1180.,  1217.,  1163.,  1104.,  1173.,  1273.,\n",
       "         1163.,  1144.]),\n",
       " array([ 0. ,  0.9,  1.8,  2.7,  3.6,  4.5,  5.4,  6.3,  7.2,  8.1,  9. ]),\n",
       " <a list of 10 Patch objects>)"
      ]
     },
     "execution_count": 12,
     "metadata": {},
     "output_type": "execute_result"
    },
    {
     "data": {
      "image/png": "[encoded data removed]",
      "text/plain": [
       "<matplotlib.figure.Figure at 0x1152ccda0>"
      ]
     },
     "metadata": {},
     "output_type": "display_data"
    }
   ],
   "source": [
    "plt.hist(y_train)"
   ]
  },
  {
   "cell_type": "markdown",
   "metadata": {},
   "source": [
    "### Non modified"
   ]
  },
  {
   "cell_type": "code",
   "execution_count": 36,
   "metadata": {},
   "outputs": [
    {
     "name": "stdout",
     "output_type": "stream",
     "text": [
      "It took 5.09 s\n"
     ]
    }
   ],
   "source": [
    "start_time = time.time()\n",
    "cv_score = knn_cross_val_score(X_train, y_train, [4], score='accuracy', metric=\"cosine\", weights=True)\n",
    "print(\"It took {:.2f} s\".format(time.time() - start_time))"
   ]
  },
  {
   "cell_type": "code",
   "execution_count": 38,
   "metadata": {},
   "outputs": [
    {
     "name": "stdout",
     "output_type": "stream",
     "text": [
      "Accuracy: 0.9594166666666667\n"
     ]
    }
   ],
   "source": [
    "print(\"Accuracy: {}\".format(np.array(cv_score[4]).mean()))"
   ]
  },
  {
   "cell_type": "markdown",
   "metadata": {},
   "source": [
    "### Degrees"
   ]
  },
  {
   "cell_type": "markdown",
   "metadata": {},
   "source": [
    "$5^{\\circ}$"
   ]
  },
  {
   "cell_type": "code",
   "execution_count": 16,
   "metadata": {},
   "outputs": [],
   "source": [
    "mods = [\n",
    "    lambda x: misc.imrotate(x.reshape((28, 28)), 5).ravel(),\n",
    "    lambda x: misc.imrotate(x.reshape((28, 28)), -5).ravel()\n",
    "]"
   ]
  },
  {
   "cell_type": "code",
   "execution_count": 19,
   "metadata": {},
   "outputs": [
    {
     "name": "stdout",
     "output_type": "stream",
     "text": [
      "It took 16.84 s\n"
     ]
    }
   ],
   "source": [
    "start_time = time.time()\n",
    "cv_score = knn_cross_val_score_mod(X_train, y_train, mods, 4, score='accuracy', metric=\"cosine\", weights=True)\n",
    "print(\"It took {:.2f} s\".format(time.time() - start_time))"
   ]
  },
  {
   "cell_type": "code",
   "execution_count": 20,
   "metadata": {},
   "outputs": [
    {
     "name": "stdout",
     "output_type": "stream",
     "text": [
      "Accuracy: 0.9655833333333333\n"
     ]
    }
   ],
   "source": [
    "print(\"Accuracy: {}\".format(cv_score.mean()))"
   ]
  },
  {
   "cell_type": "markdown",
   "metadata": {},
   "source": [
    "$10^{\\circ}$"
   ]
  },
  {
   "cell_type": "code",
   "execution_count": 21,
   "metadata": {
    "collapsed": true
   },
   "outputs": [],
   "source": [
    "mods = [\n",
    "    lambda x: misc.imrotate(x.reshape((28, 28)), 10).ravel(),\n",
    "    lambda x: misc.imrotate(x.reshape((28, 28)), -10).ravel()\n",
    "]"
   ]
  },
  {
   "cell_type": "code",
   "execution_count": 22,
   "metadata": {},
   "outputs": [
    {
     "name": "stdout",
     "output_type": "stream",
     "text": [
      "It took 17.05 s\n"
     ]
    }
   ],
   "source": [
    "start_time = time.time()\n",
    "cv_score = knn_cross_val_score_mod(X_train, y_train, mods, 4, score='accuracy', metric=\"cosine\", weights=True)\n",
    "print(\"It took {:.2f} s\".format(time.time() - start_time))"
   ]
  },
  {
   "cell_type": "code",
   "execution_count": 23,
   "metadata": {},
   "outputs": [
    {
     "name": "stdout",
     "output_type": "stream",
     "text": [
      "Accuracy: 0.9680833333333334\n"
     ]
    }
   ],
   "source": [
    "print(\"Accuracy: {}\".format(cv_score.mean()))"
   ]
  },
  {
   "cell_type": "markdown",
   "metadata": {},
   "source": [
    "$15^{\\circ}$"
   ]
  },
  {
   "cell_type": "code",
   "execution_count": 24,
   "metadata": {
    "collapsed": true
   },
   "outputs": [],
   "source": [
    "mods = [\n",
    "    lambda x: misc.imrotate(x.reshape((28, 28)), 15).ravel(),\n",
    "    lambda x: misc.imrotate(x.reshape((28, 28)), -15).ravel()\n",
    "]"
   ]
  },
  {
   "cell_type": "code",
   "execution_count": 25,
   "metadata": {},
   "outputs": [
    {
     "name": "stdout",
     "output_type": "stream",
     "text": [
      "It took 16.63 s\n"
     ]
    }
   ],
   "source": [
    "start_time = time.time()\n",
    "cv_score = knn_cross_val_score_mod(X_train, y_train, mods, 4, score='accuracy', metric=\"cosine\", weights=True)\n",
    "print(\"It took {:.2f} s\".format(time.time() - start_time))"
   ]
  },
  {
   "cell_type": "code",
   "execution_count": 26,
   "metadata": {},
   "outputs": [
    {
     "name": "stdout",
     "output_type": "stream",
     "text": [
      "Accuracy: 0.9631666666666666\n"
     ]
    }
   ],
   "source": [
    "print(\"Accuracy: {}\".format(cv_score.mean()))"
   ]
  },
  {
   "cell_type": "markdown",
   "metadata": {},
   "source": [
    "### Shifts"
   ]
  },
  {
   "cell_type": "markdown",
   "metadata": {},
   "source": [
    "1 px"
   ]
  },
  {
   "cell_type": "code",
   "execution_count": 27,
   "metadata": {
    "collapsed": true
   },
   "outputs": [],
   "source": [
    "mods = [\n",
    "    lambda x: ndimage.shift(x.reshape((28, 28)), [-1, 0]).ravel(),\n",
    "    lambda x: ndimage.shift(x.reshape((28, 28)), [1, 0]).ravel(),\n",
    "    lambda x: ndimage.shift(x.reshape((28, 28)), [0, -1]).ravel(),\n",
    "    lambda x: ndimage.shift(x.reshape((28, 28)), [0, 1]).ravel()\n",
    "]"
   ]
  },
  {
   "cell_type": "code",
   "execution_count": 28,
   "metadata": {},
   "outputs": [
    {
     "name": "stdout",
     "output_type": "stream",
     "text": [
      "It took 29.97 s\n"
     ]
    }
   ],
   "source": [
    "start_time = time.time()\n",
    "cv_score = knn_cross_val_score_mod(X_train, y_train, mods, 4, score='accuracy', metric=\"cosine\", weights=True)\n",
    "print(\"It took {:.2f} s\".format(time.time() - start_time))"
   ]
  },
  {
   "cell_type": "code",
   "execution_count": 29,
   "metadata": {},
   "outputs": [
    {
     "name": "stdout",
     "output_type": "stream",
     "text": [
      "Accuracy: 0.9680833333333334\n"
     ]
    }
   ],
   "source": [
    "print(\"Accuracy: {}\".format(cv_score.mean()))"
   ]
  },
  {
   "cell_type": "markdown",
   "metadata": {},
   "source": [
    "2 px"
   ]
  },
  {
   "cell_type": "code",
   "execution_count": 30,
   "metadata": {
    "collapsed": true
   },
   "outputs": [],
   "source": [
    "mods = [\n",
    "    lambda x: ndimage.shift(x.reshape((28, 28)), [-2, 0]).ravel(),\n",
    "    lambda x: ndimage.shift(x.reshape((28, 28)), [2, 0]).ravel(),\n",
    "    lambda x: ndimage.shift(x.reshape((28, 28)), [0, -2]).ravel(),\n",
    "    lambda x: ndimage.shift(x.reshape((28, 28)), [0, 2]).ravel()\n",
    "]"
   ]
  },
  {
   "cell_type": "code",
   "execution_count": 31,
   "metadata": {},
   "outputs": [
    {
     "name": "stdout",
     "output_type": "stream",
     "text": [
      "It took 32.47 s\n"
     ]
    }
   ],
   "source": [
    "start_time = time.time()\n",
    "cv_score = knn_cross_val_score_mod(X_train, y_train, mods, 4, score='accuracy', metric=\"cosine\", weights=True)\n",
    "print(\"It took {:.2f} s\".format(time.time() - start_time))"
   ]
  },
  {
   "cell_type": "code",
   "execution_count": 32,
   "metadata": {},
   "outputs": [
    {
     "name": "stdout",
     "output_type": "stream",
     "text": [
      "Accuracy: 0.9645833333333332\n"
     ]
    }
   ],
   "source": [
    "print(\"Accuracy: {}\".format(cv_score.mean()))"
   ]
  },
  {
   "cell_type": "markdown",
   "metadata": {},
   "source": [
    "3 px"
   ]
  },
  {
   "cell_type": "code",
   "execution_count": 33,
   "metadata": {
    "collapsed": true
   },
   "outputs": [],
   "source": [
    "mods = [\n",
    "    lambda x: ndimage.shift(x.reshape((28, 28)), [-3, 0]).ravel(),\n",
    "    lambda x: ndimage.shift(x.reshape((28, 28)), [3, 0]).ravel(),\n",
    "    lambda x: ndimage.shift(x.reshape((28, 28)), [0, -3]).ravel(),\n",
    "    lambda x: ndimage.shift(x.reshape((28, 28)), [0, 3]).ravel()\n",
    "]"
   ]
  },
  {
   "cell_type": "code",
   "execution_count": 34,
   "metadata": {},
   "outputs": [
    {
     "name": "stdout",
     "output_type": "stream",
     "text": [
      "It took 30.32 s\n"
     ]
    }
   ],
   "source": [
    "start_time = time.time()\n",
    "cv_score = knn_cross_val_score_mod(X_train, y_train, mods, 4, score='accuracy', metric=\"cosine\", weights=True)\n",
    "print(\"It took {:.2f} s\".format(time.time() - start_time))"
   ]
  },
  {
   "cell_type": "code",
   "execution_count": 35,
   "metadata": {
    "scrolled": true
   },
   "outputs": [
    {
     "name": "stdout",
     "output_type": "stream",
     "text": [
      "Accuracy: 0.9579166666666667\n"
     ]
    }
   ],
   "source": [
    "print(\"Accuracy: {}\".format(cv_score.mean()))"
   ]
  },
  {
   "cell_type": "markdown",
   "metadata": {},
   "source": [
    "### Blur"
   ]
  },
  {
   "cell_type": "markdown",
   "metadata": {},
   "source": [
    "$\\sigma^2 = 0.5$"
   ]
  },
  {
   "cell_type": "code",
   "execution_count": 39,
   "metadata": {
    "collapsed": true
   },
   "outputs": [],
   "source": [
    "mods = [\n",
    "    lambda x: ndimage.gaussian_filter(x.reshape((28, 28)), 0.5 ** (1/2)).ravel()\n",
    "]"
   ]
  },
  {
   "cell_type": "code",
   "execution_count": 40,
   "metadata": {
    "scrolled": true
   },
   "outputs": [
    {
     "name": "stdout",
     "output_type": "stream",
     "text": [
      "It took 11.63 s\n"
     ]
    }
   ],
   "source": [
    "start_time = time.time()\n",
    "cv_score = knn_cross_val_score_mod(X_train, y_train, mods, 4, score='accuracy', metric=\"cosine\", weights=True)\n",
    "print(\"It took {:.2f} s\".format(time.time() - start_time))"
   ]
  },
  {
   "cell_type": "code",
   "execution_count": 41,
   "metadata": {
    "scrolled": false
   },
   "outputs": [
    {
     "name": "stdout",
     "output_type": "stream",
     "text": [
      "Accuracy: 0.9562499999999999\n"
     ]
    }
   ],
   "source": [
    "print(\"Accuracy: {}\".format(cv_score.mean()))"
   ]
  },
  {
   "cell_type": "markdown",
   "metadata": {},
   "source": [
    "$\\sigma^2 = 1$"
   ]
  },
  {
   "cell_type": "code",
   "execution_count": 43,
   "metadata": {
    "collapsed": true
   },
   "outputs": [],
   "source": [
    "mods = [\n",
    "    lambda x: ndimage.gaussian_filter(x.reshape((28, 28)), 1 ** (1/2)).ravel()\n",
    "]"
   ]
  },
  {
   "cell_type": "code",
   "execution_count": 44,
   "metadata": {
    "scrolled": true
   },
   "outputs": [
    {
     "name": "stdout",
     "output_type": "stream",
     "text": [
      "It took 10.79 s\n"
     ]
    }
   ],
   "source": [
    "start_time = time.time()\n",
    "cv_score = knn_cross_val_score_mod(X_train, y_train, mods, 4, score='accuracy', metric=\"cosine\", weights=True)\n",
    "print(\"It took {:.2f} s\".format(time.time() - start_time))"
   ]
  },
  {
   "cell_type": "code",
   "execution_count": 45,
   "metadata": {
    "scrolled": true
   },
   "outputs": [
    {
     "name": "stdout",
     "output_type": "stream",
     "text": [
      "Accuracy: 0.9460000000000001\n"
     ]
    }
   ],
   "source": [
    "print(\"Accuracy: {}\".format(cv_score.mean()))"
   ]
  },
  {
   "cell_type": "markdown",
   "metadata": {},
   "source": [
    "$\\sigma^2 = 1.5$"
   ]
  },
  {
   "cell_type": "code",
   "execution_count": 46,
   "metadata": {
    "collapsed": true
   },
   "outputs": [],
   "source": [
    "mods = [\n",
    "    lambda x: ndimage.gaussian_filter(x.reshape((28, 28)), 1.5 ** (1/2)).ravel()\n",
    "]"
   ]
  },
  {
   "cell_type": "code",
   "execution_count": 47,
   "metadata": {
    "scrolled": true
   },
   "outputs": [
    {
     "name": "stdout",
     "output_type": "stream",
     "text": [
      "It took 10.80 s\n"
     ]
    }
   ],
   "source": [
    "start_time = time.time()\n",
    "cv_score = knn_cross_val_score_mod(X_train, y_train, mods, 4, score='accuracy', metric=\"cosine\", weights=True)\n",
    "print(\"It took {:.2f} s\".format(time.time() - start_time))"
   ]
  },
  {
   "cell_type": "code",
   "execution_count": 48,
   "metadata": {
    "scrolled": true
   },
   "outputs": [
    {
     "name": "stdout",
     "output_type": "stream",
     "text": [
      "Accuracy: 0.93025\n"
     ]
    }
   ],
   "source": [
    "print(\"Accuracy: {}\".format(cv_score.mean()))"
   ]
  },
  {
   "cell_type": "markdown",
   "metadata": {},
   "source": [
    "## Confusion matrix"
   ]
  },
  {
   "cell_type": "code",
   "execution_count": 50,
   "metadata": {
    "collapsed": true
   },
   "outputs": [],
   "source": [
    "X_train = X[:60000]\n",
    "X_test = X[60000:]\n",
    "y_train = y[:60000]\n",
    "y_test = y[60000:]"
   ]
  },
  {
   "cell_type": "markdown",
   "metadata": {},
   "source": [
    "(a)"
   ]
  },
  {
   "cell_type": "code",
   "execution_count": 57,
   "metadata": {
    "collapsed": true
   },
   "outputs": [],
   "source": [
    "X_test_rotated_ccw = np.apply_along_axis(\n",
    "    lambda x: misc.imrotate(x.reshape((28, 28)), 10).ravel(),\n",
    "    axis=1, arr=X_test\n",
    ")\n",
    "\n",
    "X_test_rotated_cw = np.apply_along_axis(\n",
    "    lambda x: misc.imrotate(x.reshape((28, 28)), -10).ravel(),\n",
    "    axis=1, arr=X_test\n",
    ")"
   ]
  },
  {
   "cell_type": "code",
   "execution_count": 58,
   "metadata": {
    "collapsed": true
   },
   "outputs": [],
   "source": [
    "X_test_set = [\n",
    "    X_test, X_test_rotated_ccw, X_test_rotated_cw\n",
    "]"
   ]
  },
  {
   "cell_type": "code",
   "execution_count": 59,
   "metadata": {
    "collapsed": true
   },
   "outputs": [],
   "source": [
    "best_knn = KNNClassifier(4, strategy=\"brute\", metric=\"cosine\", weights=True)"
   ]
  },
  {
   "cell_type": "code",
   "execution_count": 60,
   "metadata": {
    "collapsed": true
   },
   "outputs": [],
   "source": [
    "best_knn.fit(X_train, y_train)"
   ]
  },
  {
   "cell_type": "code",
   "execution_count": 61,
   "metadata": {},
   "outputs": [
    {
     "name": "stdout",
     "output_type": "stream",
     "text": [
      "It took 168.68 s\n"
     ]
    }
   ],
   "source": [
    "start_time = time.time()\n",
    "y_pred = best_knn.predict_sets(X_test_set)\n",
    "print(\"It took {:.2f} s\".format(time.time() - start_time))"
   ]
  },
  {
   "cell_type": "code",
   "execution_count": 62,
   "metadata": {},
   "outputs": [
    {
     "name": "stdout",
     "output_type": "stream",
     "text": [
      "accuracy: 0.9802\n"
     ]
    }
   ],
   "source": [
    "print(\"accuracy: {}\".format((y_pred == y_test).sum() / y_test.shape[0]))"
   ]
  },
  {
   "cell_type": "code",
   "execution_count": 63,
   "metadata": {},
   "outputs": [
    {
     "data": {
      "image/png": "[encoded data removed]",
      "text/plain": [
       "<matplotlib.figure.Figure at 0x1154e6be0>"
      ]
     },
     "metadata": {},
     "output_type": "display_data"
    }
   ],
   "source": [
    "cm = confusion_matrix(y_test, y_pred)\n",
    "cm[(np.arange(10), np.arange(10))] = 0\n",
    "plot_confusion_matrix(cm, range(10), title='')\n",
    "plt.savefig(\"cm_5.pdf\", format='pdf', bbox_inches='tight', pad_inches=0.1)"
   ]
  },
  {
   "cell_type": "markdown",
   "metadata": {},
   "source": [
    "(b)"
   ]
  },
  {
   "cell_type": "code",
   "execution_count": 64,
   "metadata": {
    "collapsed": true
   },
   "outputs": [],
   "source": [
    "X_test_shifted_up = np.apply_along_axis(\n",
    "    lambda x: ndimage.shift(x.reshape((28, 28)), [-1, 0]).ravel(),\n",
    "    axis=1, arr=X_test\n",
    ")\n",
    "\n",
    "X_test_shifted_down = np.apply_along_axis(\n",
    "    lambda x: ndimage.shift(x.reshape((28, 28)), [1, 0]).ravel(),\n",
    "    axis=1, arr=X_test\n",
    ")\n",
    "\n",
    "X_test_shifted_left = np.apply_along_axis(\n",
    "    lambda x: ndimage.shift(x.reshape((28, 28)), [0, -1]).ravel(),\n",
    "    axis=1, arr=X_test\n",
    ")\n",
    "\n",
    "X_test_shifted_right = np.apply_along_axis(\n",
    "    lambda x: ndimage.shift(x.reshape((28, 28)), [0, 1]).ravel(),\n",
    "    axis=1, arr=X_test\n",
    ")"
   ]
  },
  {
   "cell_type": "code",
   "execution_count": 65,
   "metadata": {
    "collapsed": true
   },
   "outputs": [],
   "source": [
    "X_test_set = [\n",
    "    X_test, X_test_shifted_up, X_test_shifted_down,\n",
    "    X_test_shifted_left, X_test_shifted_right\n",
    "]"
   ]
  },
  {
   "cell_type": "code",
   "execution_count": 66,
   "metadata": {
    "collapsed": true
   },
   "outputs": [],
   "source": [
    "best_knn = KNNClassifier(4, strategy=\"brute\", metric=\"cosine\", weights=True)"
   ]
  },
  {
   "cell_type": "code",
   "execution_count": 69,
   "metadata": {
    "collapsed": true
   },
   "outputs": [],
   "source": [
    "best_knn.fit(X_train, y_train)"
   ]
  },
  {
   "cell_type": "code",
   "execution_count": 70,
   "metadata": {
    "scrolled": true
   },
   "outputs": [
    {
     "name": "stdout",
     "output_type": "stream",
     "text": [
      "It took 225.47 s\n"
     ]
    }
   ],
   "source": [
    "start_time = time.time()\n",
    "y_pred = best_knn.predict_sets(X_test_set)\n",
    "print(\"It took {:.2f} s\".format(time.time() - start_time))"
   ]
  },
  {
   "cell_type": "code",
   "execution_count": 71,
   "metadata": {},
   "outputs": [
    {
     "name": "stdout",
     "output_type": "stream",
     "text": [
      "accuracy: 0.9798\n"
     ]
    }
   ],
   "source": [
    "print(\"accuracy: {}\".format((y_pred == y_test).sum() / y_test.shape[0]))"
   ]
  },
  {
   "cell_type": "code",
   "execution_count": 72,
   "metadata": {},
   "outputs": [
    {
     "data": {
      "image/png": "[encoded data removed]",
      "text/plain": [
       "<matplotlib.figure.Figure at 0x115066a90>"
      ]
     },
     "metadata": {},
     "output_type": "display_data"
    }
   ],
   "source": [
    "cm = confusion_matrix(y_test, y_pred)\n",
    "cm[(np.arange(10), np.arange(10))] = 0\n",
    "plot_confusion_matrix(cm, range(10), title='')\n",
    "plt.savefig(\"cm_6.pdf\", format='pdf', bbox_inches='tight', pad_inches=0.1)"
   ]
  },
  {
   "cell_type": "markdown",
   "metadata": {},
   "source": [
    "(c)"
   ]
  },
  {
   "cell_type": "code",
   "execution_count": 73,
   "metadata": {
    "collapsed": true
   },
   "outputs": [],
   "source": [
    "X_test_filtered = np.apply_along_axis(\n",
    "    lambda x: ndimage.gaussian_filter(x.reshape((28, 28)), 1 ** (1/2)).ravel(),\n",
    "    axis=1, arr=X_test\n",
    ")"
   ]
  },
  {
   "cell_type": "code",
   "execution_count": 74,
   "metadata": {
    "collapsed": true
   },
   "outputs": [],
   "source": [
    "X_test_set = [\n",
    "    X_test,\n",
    "    X_test_filtered\n",
    "]"
   ]
  },
  {
   "cell_type": "code",
   "execution_count": 75,
   "metadata": {
    "collapsed": true
   },
   "outputs": [],
   "source": [
    "best_knn = KNNClassifier(4, strategy=\"brute\", metric=\"cosine\", weights=True)"
   ]
  },
  {
   "cell_type": "code",
   "execution_count": 76,
   "metadata": {
    "collapsed": true
   },
   "outputs": [],
   "source": [
    "best_knn.fit(X_train, y_train)"
   ]
  },
  {
   "cell_type": "code",
   "execution_count": 77,
   "metadata": {},
   "outputs": [
    {
     "name": "stdout",
     "output_type": "stream",
     "text": [
      "It took 85.59 s\n"
     ]
    }
   ],
   "source": [
    "start_time = time.time()\n",
    "y_pred = best_knn.predict_sets(X_test_set)\n",
    "print(\"It took {:.2f} s\".format(time.time() - start_time))"
   ]
  },
  {
   "cell_type": "code",
   "execution_count": 78,
   "metadata": {
    "scrolled": false
   },
   "outputs": [
    {
     "name": "stdout",
     "output_type": "stream",
     "text": [
      "accuracy: 0.9634\n"
     ]
    }
   ],
   "source": [
    "print(\"accuracy: {}\".format((y_pred == y_test).sum() / y_test.shape[0]))"
   ]
  },
  {
   "cell_type": "code",
   "execution_count": 79,
   "metadata": {
    "scrolled": true
   },
   "outputs": [
    {
     "data": {
      "image/png": "[encoded data removed]",
      "text/plain": [
       "<matplotlib.figure.Figure at 0x10ac02240>"
      ]
     },
     "metadata": {},
     "output_type": "display_data"
    }
   ],
   "source": [
    "cm = confusion_matrix(y_test, y_pred)\n",
    "cm[(np.arange(10), np.arange(10))] = 0\n",
    "plot_confusion_matrix(cm, range(10), title='')\n",
    "plt.savefig(\"cm_7.pdf\", format='pdf', bbox_inches='tight', pad_inches=0.1)"
   ]
  },
  {
   "cell_type": "markdown",
   "metadata": {},
   "source": [
    "Final"
   ]
  },
  {
   "cell_type": "code",
   "execution_count": 81,
   "metadata": {
    "collapsed": true
   },
   "outputs": [],
   "source": [
    "X_test_rotated_ccw = np.apply_along_axis(\n",
    "    lambda x: misc.imrotate(x.reshape((28, 28)), 10).ravel(),\n",
    "    axis=1, arr=X_test\n",
    ")\n",
    "\n",
    "X_test_rotated_cw = np.apply_along_axis(\n",
    "    lambda x: misc.imrotate(x.reshape((28, 28)), -10).ravel(),\n",
    "    axis=1, arr=X_test\n",
    ")\n",
    "\n",
    "X_test_shifted_up = np.apply_along_axis(\n",
    "    lambda x: ndimage.shift(x.reshape((28, 28)), [-1, 0]).ravel(),\n",
    "    axis=1, arr=X_test\n",
    ")\n",
    "\n",
    "X_test_shifted_down = np.apply_along_axis(\n",
    "    lambda x: ndimage.shift(x.reshape((28, 28)), [1, 0]).ravel(),\n",
    "    axis=1, arr=X_test\n",
    ")\n",
    "\n",
    "X_test_shifted_left = np.apply_along_axis(\n",
    "    lambda x: ndimage.shift(x.reshape((28, 28)), [0, -1]).ravel(),\n",
    "    axis=1, arr=X_test\n",
    ")\n",
    "\n",
    "X_test_shifted_right = np.apply_along_axis(\n",
    "    lambda x: ndimage.shift(x.reshape((28, 28)), [0, 1]).ravel(),\n",
    "    axis=1, arr=X_test\n",
    ")"
   ]
  },
  {
   "cell_type": "code",
   "execution_count": 83,
   "metadata": {},
   "outputs": [],
   "source": [
    "X_test_set = [\n",
    "    X_test,\n",
    "    X_test_rotated_ccw, X_test_rotated_cw,\n",
    "    X_test_shifted_up, X_test_shifted_down,\n",
    "    X_test_shifted_left, X_test_shifted_right\n",
    "]"
   ]
  },
  {
   "cell_type": "code",
   "execution_count": 84,
   "metadata": {
    "collapsed": true
   },
   "outputs": [],
   "source": [
    "best_knn = KNNClassifier(4, strategy=\"brute\", metric=\"cosine\", weights=True)"
   ]
  },
  {
   "cell_type": "code",
   "execution_count": 85,
   "metadata": {
    "collapsed": true
   },
   "outputs": [],
   "source": [
    "best_knn.fit(X_train, y_train)"
   ]
  },
  {
   "cell_type": "code",
   "execution_count": 86,
   "metadata": {
    "scrolled": true
   },
   "outputs": [
    {
     "name": "stdout",
     "output_type": "stream",
     "text": [
      "It took 327.10 s\n"
     ]
    }
   ],
   "source": [
    "start_time = time.time()\n",
    "y_pred = best_knn.predict_sets(X_test_set)\n",
    "print(\"It took {:.2f} s\".format(time.time() - start_time))"
   ]
  },
  {
   "cell_type": "code",
   "execution_count": 87,
   "metadata": {},
   "outputs": [
    {
     "name": "stdout",
     "output_type": "stream",
     "text": [
      "accuracy: 0.982\n"
     ]
    }
   ],
   "source": [
    "print(\"accuracy: {}\".format((y_pred == y_test).sum() / y_test.shape[0]))"
   ]
  },
  {
   "cell_type": "code",
   "execution_count": null,
   "metadata": {
    "collapsed": true
   },
   "outputs": [],
   "source": []
  }
 ],
 "metadata": {
  "kernelspec": {
   "display_name": "Python 3",
   "language": "python",
   "name": "python3"
  },
  "language_info": {
   "codemirror_mode": {
    "name": "ipython",
    "version": 3
   },
   "file_extension": ".py",
   "mimetype": "text/x-python",
   "name": "python",
   "nbconvert_exporter": "python",
   "pygments_lexer": "ipython3",
   "version": "3.6.2"
  }
 },
 "nbformat": 4,
 "nbformat_minor": 2
}
